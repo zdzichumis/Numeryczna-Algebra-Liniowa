{
 "cells": [
  {
   "cell_type": "code",
   "execution_count": 1,
   "id": "5726559b",
   "metadata": {},
   "outputs": [],
   "source": [
    "import numpy as np\n",
    "import random"
   ]
  },
  {
   "cell_type": "code",
   "execution_count": 2,
   "id": "86b3c708-ad18-4337-bd39-a81349d0b74a",
   "metadata": {},
   "outputs": [],
   "source": [
    "def eig(A_original, max_iter = 100, atol=1e-5, verbose=False):\n",
    "    A = A_original.copy().astype(float)\n",
    "    current_A = A.copy()\n",
    "    n = A.shape[0]\n",
    "    eigenvalues = []\n",
    "    eigenvectors = np.zeros_like(A)\n",
    "    for i in range(n):\n",
    "        v = np.random.rand(n)\n",
    "        v = v/np.linalg.norm(v)\n",
    "        mu = np.random.normal(0, 10)\n",
    "        current_A = A - sum(eigenvalues[j] * np.outer(eigenvectors[:, j], eigenvectors[:, j].T) for j in range(i))\n",
    "        iterations = 0\n",
    "        while np.linalg.norm(current_A @ v - mu * v) > atol and iterations < max_iter:\n",
    "            try:\n",
    "                v = np.linalg.solve(current_A - mu * np.identity(n), v)\n",
    "            except np.linalg.LinAlgError:\n",
    "                if verbose:\n",
    "                    print(f\"Invalid eigenvalue {i+1}\")\n",
    "                mu = np.random.normal(0, 10)\n",
    "                continue\n",
    "            v = v/np.linalg.norm(v)\n",
    "            mu = v.T@current_A@v\n",
    "            if abs(mu)<atol:\n",
    "                mu = np.random.normal(0, 10)\n",
    "            iterations += 1\n",
    "        if iterations >= max_iter and verbose:\n",
    "            print(f\"Code failed to converge for eigenvalue {i+1}.\")\n",
    "        eigenvectors[:,i] = v\n",
    "        eigenvalues.append(mu)\n",
    "    return (np.array(eigenvalues), eigenvectors)"
   ]
  },
  {
   "cell_type": "code",
   "execution_count": 3,
   "id": "b4afb6c4",
   "metadata": {},
   "outputs": [
    {
     "name": "stdout",
     "output_type": "stream",
     "text": [
      "Wartości własne kodu:\n",
      " [13.27009751 -3.74085042  3.74084509] \n",
      "Wektory własne kodu:\n",
      " [[-0.28122477  0.27336177  0.2735275 ]\n",
      " [-0.47210708  0.47391133  0.47387361]\n",
      " [-0.83548042  0.83706714  0.83703435]] \n",
      "linalg:\n",
      " EigResult(eigenvalues=array([13.27009751, -0.08044285,  2.81034534]), eigenvectors=array([[ 0.28122477,  0.95520076, -0.09221791],\n",
      "       [ 0.47210705, -0.22137446, -0.85329261],\n",
      "       [ 0.83548044, -0.1964303 ,  0.51321299]]))\n"
     ]
    }
   ],
   "source": [
    "A = np.array([[1, 2, 3],\n",
    "              [2, 5, 4],\n",
    "              [3, 4, 10]])\n",
    "code_eigenvalues, code_eigenvectors = eig(A, max_iter = 100)\n",
    "\n",
    "print('Wartości własne kodu:\\n', code_eigenvalues, '\\nWektory własne kodu:\\n', code_eigenvectors, '\\nlinalg:\\n', np.linalg.eig(A))"
   ]
  },
  {
   "cell_type": "code",
   "execution_count": 4,
   "id": "2376fd9e",
   "metadata": {},
   "outputs": [],
   "source": [
    "def random_matrices(columns, rows, quantity=1):\n",
    "    result = []\n",
    "    for i in range(quantity):\n",
    "        result.append(np.random.rand(rows, columns))\n",
    "    return np.array(result)"
   ]
  },
  {
   "cell_type": "code",
   "execution_count": 5,
   "id": "32810a8d",
   "metadata": {},
   "outputs": [],
   "source": [
    "def validate(function, n=100, dim_max= 10, max_iter = 10000, verbose=False, atol=1e-2):\n",
    "    success_count = 0\n",
    "    for dim in range(2, dim_max+1):\n",
    "        for A in random_matrices(dim, dim, n):\n",
    "            array = A@ A.T\n",
    "            result = np.sort(function(array, max_iter, verbose)[0])\n",
    "            correct_result = np.sort(np.linalg.eig(array)[0])\n",
    "            pairwise_distances = np.isclose(result[:, None], correct_result, atol=1e-2)\n",
    "            if np.all(np.isclose(result, correct_result, atol=atol)):\n",
    "                success_count+=1\n",
    "            elif verbose:\n",
    "                    print(f\"array:\\n{array}\\nResult:\\n{result}\\nCorrect result:\\n{np.linalg.eig(array)[0]}\")\n",
    "    return success_count/(n*dim_max)*100"
   ]
  },
  {
   "cell_type": "code",
   "execution_count": 6,
   "id": "817885f1-c9cf-40f8-b460-d2b5069b3eba",
   "metadata": {},
   "outputs": [
    {
     "name": "stdout",
     "output_type": "stream",
     "text": [
      "Skuteczność kodu wynosi 11.600000000000001%\n"
     ]
    }
   ],
   "source": [
    "print(f\"Skuteczność kodu wynosi {validate(eig, n=100, dim_max= 5, max_iter = 100, verbose=False, atol=1e-2)}%\")"
   ]
  },
  {
   "cell_type": "code",
   "execution_count": 10,
   "id": "31dcc1b3-71ba-4552-a961-bec2ed77cd47",
   "metadata": {},
   "outputs": [
    {
     "name": "stdout",
     "output_type": "stream",
     "text": [
      "[13.27009751 -0.08044285  2.81034534]\n",
      "[ 2.81034534e+00 -8.04428504e-02 -2.51787677e-15]\n",
      "[ 1.32700975e+01 -8.04428504e-02 -2.11492520e-15]\n"
     ]
    }
   ],
   "source": [
    "#Testowanie teorii\n",
    "A = np.array([[1, 2, 3],\n",
    "              [2, 5, 4],\n",
    "              [3, 4, 10]])\n",
    "x = np.linalg.eig(A)\n",
    "print(x[0])\n",
    "x2 = np.linalg.eig(A-x[0][0]*np.outer(x[1][:, 0], x[1][:, 0].T))\n",
    "print(x2[0])\n",
    "x3 = np.linalg.eig(A-x2[0][0]*np.outer(x2[1][:, 0], x2[1][:, 0].T))\n",
    "print(x3[0])"
   ]
  },
  {
   "cell_type": "code",
   "execution_count": null,
   "id": "f85379b8-bbca-4b51-8df0-c8109ed1e9c0",
   "metadata": {},
   "outputs": [],
   "source": []
  }
 ],
 "metadata": {
  "kernelspec": {
   "display_name": "Python 3 (ipykernel)",
   "language": "python",
   "name": "python3"
  },
  "language_info": {
   "codemirror_mode": {
    "name": "ipython",
    "version": 3
   },
   "file_extension": ".py",
   "mimetype": "text/x-python",
   "name": "python",
   "nbconvert_exporter": "python",
   "pygments_lexer": "ipython3",
   "version": "3.12.4"
  }
 },
 "nbformat": 4,
 "nbformat_minor": 5
}
