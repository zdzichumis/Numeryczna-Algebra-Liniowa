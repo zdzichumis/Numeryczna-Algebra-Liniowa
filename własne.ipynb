{
 "cells": [
  {
   "cell_type": "code",
   "execution_count": 57,
   "id": "5726559b",
   "metadata": {},
   "outputs": [
    {
     "name": "stdout",
     "output_type": "stream",
     "text": [
      "Kod:\n",
      " [2.8103453360807884, 2.8103453360247825, 2.8103453358474844] \n",
      " [[-0.0922201  -0.09221315 -0.09222677]\n",
      " [-0.85329203 -0.85329371 -0.85329056]\n",
      " [ 0.51321356  0.51321203  0.51321482]] \n",
      "linalg:\n",
      " (array([13.27009751, -0.08044285,  2.81034534]), array([[ 0.28122477,  0.95520076, -0.09221791],\n",
      "       [ 0.47210705, -0.22137446, -0.85329261],\n",
      "       [ 0.83548044, -0.1964303 ,  0.51321299]]))\n"
     ]
    }
   ],
   "source": [
    "import numpy as np\n",
    "import random\n",
    "\n",
    "def eig(A_original):\n",
    "    A = A_original.copy().astype(float)\n",
    "    n = A.shape[0]\n",
    "    eigenvalues = []\n",
    "    eigenvectors = np.zeros_like(A)\n",
    "    max_iter = 100\n",
    "    mu = np.random.rand()\n",
    "    v = np.random.rand(n)\n",
    "    for i in range(n):\n",
    "        iterations = 0\n",
    "        mu = np.random.rand()\n",
    "        while max(abs(A@v-mu*v))>2**(-10) and\\\n",
    "            iterations < max_iter:\n",
    "            v = np.linalg.solve(A-mu*np.identity(A.shape[0]), v)\n",
    "            v = v/np.linalg.norm(v)\n",
    "            mu = v.T@A@v\n",
    "            iterations += 1\n",
    "        eigenvectors[:,i] = v\n",
    "        eigenvalues.append(mu)\n",
    "    return (eigenvalues, eigenvectors)"
   ]
  },
  {
   "cell_type": "code",
   "execution_count": 58,
   "id": "034fe679",
   "metadata": {},
   "outputs": [
    {
     "name": "stdout",
     "output_type": "stream",
     "text": [
      "Kod:\n",
      " [-0.08044285042150333, -0.08044285042150316, -0.08044285042150323] \n",
      " [[-0.95520076  0.95520076 -0.95520076]\n",
      " [ 0.22137446 -0.22137446  0.22137446]\n",
      " [ 0.1964303  -0.1964303   0.1964303 ]] \n",
      "linalg:\n",
      " (array([13.27009751, -0.08044285,  2.81034534]), array([[ 0.28122477,  0.95520076, -0.09221791],\n",
      "       [ 0.47210705, -0.22137446, -0.85329261],\n",
      "       [ 0.83548044, -0.1964303 ,  0.51321299]]))\n"
     ]
    }
   ],
   "source": [
    "A = np.array([[1, 0], [0, 1]])\n",
    "A = np.array([[1, 2, 3],\n",
    "              [2, 5, 4],\n",
    "              [3, 4, 10]])\n",
    "nasze_values, nasze_wektors = eig(A)\n",
    "\n",
    "print('Kod:\\n', nasze_values, '\\n', nasze_wektors, '\\nlinalg:\\n', np.linalg.eig(A))"
   ]
  },
  {
   "cell_type": "code",
   "execution_count": null,
   "id": "2376fd9e",
   "metadata": {},
   "outputs": [],
   "source": [
    "def random_matrices(columns, rows, quantity=1):\n",
    "    result = []\n",
    "    for i in range(quantity):\n",
    "        result.append(np.random.rand(rows, columns))\n",
    "    return np.array(result)"
   ]
  },
  {
   "cell_type": "code",
   "execution_count": null,
   "id": "32810a8d",
   "metadata": {},
   "outputs": [],
   "source": [
    "n = 1000\n",
    "dim_max = 10\n",
    "i = 0\n",
    "for dim in range(1, dim_max+1):\n",
    "    for B in random_matrices(dim, dim, n):\n",
    "        array = np.matmul(B, B.T)\n",
    "        result = gram_schmidt(array)\n",
    "        if np.all(np.isclose(result.T@result, np.identity(dim)) == True):\n",
    "            i+=1\n",
    "        else:\n",
    "            print('array', array, '\\nwynik funkcji\\n', result.T@result)\n",
    "print('Otrzymano', i, 'poprawnych wyników na', n*dim_max, 'testów.')"
   ]
  },
  {
   "cell_type": "code",
   "execution_count": null,
   "id": "ce2e4672",
   "metadata": {},
   "outputs": [],
   "source": []
  }
 ],
 "metadata": {
  "kernelspec": {
   "display_name": "Python 3",
   "language": "python",
   "name": "python3"
  },
  "language_info": {
   "codemirror_mode": {
    "name": "ipython",
    "version": 3
   },
   "file_extension": ".py",
   "mimetype": "text/x-python",
   "name": "python",
   "nbconvert_exporter": "python",
   "pygments_lexer": "ipython3",
   "version": "3.8.8"
  }
 },
 "nbformat": 4,
 "nbformat_minor": 5
}
