{
 "cells": [
  {
   "cell_type": "code",
   "execution_count": 1,
   "id": "aa0036cb-5485-447e-96ac-af4c6da68b51",
   "metadata": {},
   "outputs": [],
   "source": [
    "from math import pow\n",
    "import random\n",
    "import time\n",
    "from statistics import mean"
   ]
  },
  {
   "cell_type": "code",
   "execution_count": 2,
   "id": "9ea0e84b-e69b-4f96-94bc-61e34957cb22",
   "metadata": {},
   "outputs": [],
   "source": [
    "def Reduce(A, i_0, j_0):\n",
    "    B = []\n",
    "    for i in range(len(A)):\n",
    "        wiersz = []\n",
    "        if i!=i_0:\n",
    "            for j in range(len(A)):\n",
    "                if j!=j_0:\n",
    "                    wiersz.append(A[i][j])\n",
    "            B.append(wiersz)\n",
    "    return B"
   ]
  },
  {
   "cell_type": "code",
   "execution_count": 3,
   "id": "21aeb7be-7979-4265-be64-a6d1ccf7c599",
   "metadata": {},
   "outputs": [],
   "source": [
    "def Det(A, k=0, columns = False):   \n",
    "    try:\n",
    "        if len(A)==1:\n",
    "            s = A[0][0]\n",
    "        else:\n",
    "            s=0\n",
    "            for i in range(len(A)):\n",
    "                if columns == True:\n",
    "                    s = s+ A[i][k]*pow(-1, i+k)*Det(Reduce(A, i, k))\n",
    "                if columns == False:\n",
    "                    s = s+ A[k][i]*pow(-1, k+i)*Det(Reduce(A, k, i))\n",
    "        return s\n",
    "    except:\n",
    "        if len(A)!=len(A[0]):\n",
    "            print('Argument nie jest macierzą kwadratową.')\n",
    "        if k>len(A):\n",
    "            print('Parametr k jest większy niż rozmiar macierzy.')"
   ]
  },
  {
   "cell_type": "code",
   "execution_count": 4,
   "id": "bddc4d25-b679-4679-8254-43a5fdd07a88",
   "metadata": {},
   "outputs": [],
   "source": [
    "def Random_matrix(m, n, random_range = (1, 100)):\n",
    "    A = []\n",
    "    for i in range(m):\n",
    "        wiersz = []\n",
    "        for j in range(n):\n",
    "            \n",
    "            wiersz.append(random.randint(random_range[0], random_range[1]))\n",
    "        A.append(wiersz)\n",
    "    return A"
   ]
  },
  {
   "cell_type": "code",
   "execution_count": 5,
   "id": "3adfc9e4-93b3-43e4-bb3e-fd52b400d7aa",
   "metadata": {},
   "outputs": [
    {
     "name": "stdout",
     "output_type": "stream",
     "text": [
      "A= [[-2, 7, -10], [-9, -6, 5], [7, -3, -10]] , det(A)= -1225.0\n"
     ]
    }
   ],
   "source": [
    "A = Random_matrix(3, 3, random_range = (-10, 10))\n",
    "print('A=', A, ', det(A)=', Det(A, 1, True))"
   ]
  },
  {
   "cell_type": "code",
   "execution_count": 7,
   "id": "eed4ffbb-c8ec-46de-b1b1-c9ee91f2c641",
   "metadata": {},
   "outputs": [
    {
     "name": "stdout",
     "output_type": "stream",
     "text": [
      "Średni czas dla macierzy wymaru 3 x 3 wynosi 1.9936561584472657e-05\n",
      "Średni czas dla macierzy wymaru 4 x 4 wynosi 3.9873123168945315e-05\n",
      "Średni czas dla macierzy wymaru 5 x 5 wynosi 0.00023990631103515625\n",
      "Średni czas dla macierzy wymaru 6 x 6 wynosi 0.0014363574981689454\n",
      "Średni czas dla macierzy wymaru 7 x 7 wynosi 0.009417672157287598\n",
      "Średni czas dla macierzy wymaru 8 x 8 wynosi 0.07277947425842285\n"
     ]
    }
   ],
   "source": [
    "ilosc_macierzy = 50\n",
    "wymary_macierzy = (3, 8)\n",
    "for dim in range(wymary_macierzy[0], wymary_macierzy[1]+1):\n",
    "    times = []\n",
    "    for i in range(ilosc_macierzy):\n",
    "        A = Random_matrix(dim, dim)\n",
    "        start_time = time.time()\n",
    "        Det(A)\n",
    "        times.append(time.time() - start_time)\n",
    "    print('Średni czas dla macierzy wymaru', dim, 'x', dim, 'wynosi', mean(times))"
   ]
  },
  {
   "cell_type": "code",
   "execution_count": null,
   "id": "862cecd5-7ad8-4990-a316-6a9cb92e8486",
   "metadata": {},
   "outputs": [],
   "source": []
  }
 ],
 "metadata": {
  "kernelspec": {
   "display_name": "Python 3 (ipykernel)",
   "language": "python",
   "name": "python3"
  },
  "language_info": {
   "codemirror_mode": {
    "name": "ipython",
    "version": 3
   },
   "file_extension": ".py",
   "mimetype": "text/x-python",
   "name": "python",
   "nbconvert_exporter": "python",
   "pygments_lexer": "ipython3",
   "version": "3.12.4"
  }
 },
 "nbformat": 4,
 "nbformat_minor": 5
}
