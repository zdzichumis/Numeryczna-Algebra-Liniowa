{
 "cells": [
  {
   "cell_type": "code",
   "execution_count": 1,
   "id": "fd6e37f4",
   "metadata": {},
   "outputs": [],
   "source": [
    "from math import pow\n",
    "import random\n",
    "import time\n",
    "from statistics import mean\n",
    "import matplotlib.pyplot as plt\n",
    "import numpy as np"
   ]
  },
  {
   "cell_type": "code",
   "execution_count": 2,
   "id": "dfe8bc9f-d20d-4cd9-b3ef-6036e8023987",
   "metadata": {},
   "outputs": [],
   "source": [
    "def backward_substitution(L, b):\n",
    "    x = np.zeros_like(b)\n",
    "    for i in range(len(L)-1, -1, -1):\n",
    "        s = 0\n",
    "        for j in range (i+1, len(L)):\n",
    "            s += A[i, j]*x[j]\n",
    "        x[i] = (b[i] - s)/A[i, i]\n",
    "    return x"
   ]
  },
  {
   "cell_type": "code",
   "execution_count": 3,
   "id": "6aa5694d-3575-4455-859e-eb8fd1162c7c",
   "metadata": {},
   "outputs": [
    {
     "name": "stdout",
     "output_type": "stream",
     "text": [
      "[2 2 1]\n",
      "[2. 2. 1.]\n"
     ]
    }
   ],
   "source": [
    "A = np.array([[1, 0, 0], [0, 2, 0], [0, 0, 3]])\n",
    "b = [2, 4, 3]\n",
    "print(backward_substitution(A, b))\n",
    "print(np.linalg.solve(A, b))"
   ]
  },
  {
   "cell_type": "code",
   "execution_count": 4,
   "id": "6e73f92e",
   "metadata": {},
   "outputs": [],
   "source": [
    "def forward_substitution(L, b):\n",
    "    x = np.zeros_like(b)\n",
    "    for i in range(len(L)):\n",
    "        s = 0\n",
    "        for j in range(i):\n",
    "            s += L[i, j]*x[j]\n",
    "        x[i] = (b[i]-s)/L[i, i]\n",
    "    return x"
   ]
  },
  {
   "cell_type": "code",
   "execution_count": 5,
   "id": "ca31abc1",
   "metadata": {},
   "outputs": [
    {
     "name": "stdout",
     "output_type": "stream",
     "text": [
      "[4 2 1]\n",
      "[4. 2. 1.]\n"
     ]
    }
   ],
   "source": [
    "A = np.array([[1, 0, 0], [-1, 3, 0], [0, -3, 3]])\n",
    "b = [4, 2, -3]\n",
    "print(forward_substitution(A, b))\n",
    "print(np.linalg.solve(A, b))"
   ]
  },
  {
   "cell_type": "code",
   "execution_count": 6,
   "id": "2a82ebcc",
   "metadata": {},
   "outputs": [],
   "source": [
    "def random_lower_triangular_matrix(m, n, random_range = (1, 10)):\n",
    "    A = []\n",
    "    for i in range(m):\n",
    "        wiersz = []\n",
    "        for j in range(n):\n",
    "            if i<=j:\n",
    "                wiersz.append(random.randint(random_range[0], random_range[1]))\n",
    "            else:\n",
    "                wiersz.append(0)\n",
    "        A.append(wiersz)\n",
    "    return np.array(A)"
   ]
  },
  {
   "cell_type": "code",
   "execution_count": 7,
   "id": "b21cf057",
   "metadata": {},
   "outputs": [],
   "source": [
    "def gaussian_elimination(A, b):\n",
    "    n = A.shape[0]\n",
    "    A_b = np.c_[A, b]\n",
    "    for i in range(n):\n",
    "        for k in range(i, n):\n",
    "            if abs(A_b[k, i])>=1/(2**16):\n",
    "                A_b[[k, i]] = A_b[[i, k]]\n",
    "                pass\n",
    "        if k == n-1 and abs(A_b[k, i])<1/(2**16):\n",
    "                break\n",
    "        \n",
    "        for j in range(i+1, n):\n",
    "            const = -A_b[j, i]/A_b[i, i]\n",
    "            A_b[j, i:] = A_b[j, i:] + const*A_b[i, i:]\n",
    "    return A_b[:,:n], A_b[:, n]"
   ]
  },
  {
   "cell_type": "code",
   "execution_count": 8,
   "id": "9c62cea6",
   "metadata": {},
   "outputs": [
    {
     "name": "stdout",
     "output_type": "stream",
     "text": [
      "U= [[1 2 0]\n",
      " [0 5 0]\n",
      " [0 8 0]] \n",
      "c= [2 2 3]\n"
     ]
    }
   ],
   "source": [
    "A = np.array([[1, 2, 3], [4, 5, 6], [7, 8, 10]])\n",
    "b = np.array([1, 2, 3])\n",
    "A = np.array([[1, 2, 0], [0, 5, 0], [0, 8, 0]])\n",
    "b = np.array([2, 2, 3,])\n",
    "U, c = gaussian_elimination(A, b)\n",
    "print('U=', U, '\\nc=', c)"
   ]
  },
  {
   "cell_type": "code",
   "execution_count": 9,
   "id": "e63a05a4",
   "metadata": {},
   "outputs": [],
   "source": [
    "def gaussian_det(A):\n",
    "    n = A.shape[0]\n",
    "    ilosc_translacji = 0\n",
    "    for i in range(n):\n",
    "        if abs(A[i, i])<1/(2**16):\n",
    "            ilosc_translacji += 1\n",
    "            for k in range(i, n):\n",
    "                if abs(A[k, i])>=1/(2**16):\n",
    "                    A[[k, i]] = A[[i, k]]\n",
    "                    pass\n",
    "            if k == n-1 and abs(A[k, i])<1/(2**16):\n",
    "                return 0\n",
    "        \n",
    "        for j in range(i+1, n):\n",
    "            const = -A[j, i]/A[i, i]\n",
    "            A[j, i:] = A[j, i:] + const*A[i, i:]\n",
    "    det = 1\n",
    "    for i in range(n):\n",
    "        det = det*A[i, i]\n",
    "    return (-1)**ilosc_translacji*det"
   ]
  },
  {
   "cell_type": "code",
   "execution_count": 10,
   "id": "14453f26-45e6-4576-aa8f-24183144c19b",
   "metadata": {},
   "outputs": [
    {
     "name": "stdout",
     "output_type": "stream",
     "text": [
      "det A = 0\n"
     ]
    }
   ],
   "source": [
    "A = np.array([[1, 2, 3], [4, 5, 6], [7, 8, 10]])\n",
    "A = np.array([[1, 0, 1], [0, 1, 0], [0, 1, 0]])\n",
    "print('det A =', gaussian_det(A))"
   ]
  },
  {
   "cell_type": "code",
   "execution_count": 11,
   "id": "9a03a850",
   "metadata": {},
   "outputs": [],
   "source": [
    "def gaussian_inv(A):\n",
    "    n = A.shape[0]\n",
    "    ilosc_translacji = 0\n",
    "    A_id = np.c_[A, np.identity(n)]\n",
    "    for i in range(n):\n",
    "        for k in range(i, n):\n",
    "            if abs(A_id[k, i])>=1/(2**16):\n",
    "                A_id[[k, i]] = A_id[[i, k]]\n",
    "                pass\n",
    "        if k == n-1 and abs(A[k, i])<1/(2**16):\n",
    "            raise Exception(\"Macierz nie jest odwracalna.\")\n",
    "        A_id[i, i:] = (1/A_id[i, i])*A_id[i, i:]\n",
    "        \n",
    "        for j in range(n):\n",
    "            if i != j:\n",
    "                const = -A_id[j, i]\n",
    "                A_id[j, i:] = A_id[j, i:] + const*A_id[i, i:]\n",
    "    return A_id[:, n:]"
   ]
  },
  {
   "cell_type": "code",
   "execution_count": 12,
   "id": "f5b155d7",
   "metadata": {},
   "outputs": [
    {
     "ename": "Exception",
     "evalue": "Macierz nie jest odwracalna.",
     "output_type": "error",
     "traceback": [
      "\u001b[1;31m---------------------------------------------------------------------------\u001b[0m",
      "\u001b[1;31mException\u001b[0m                                 Traceback (most recent call last)",
      "\u001b[1;32m<ipython-input-12-a3af7e515207>\u001b[0m in \u001b[0;36m<module>\u001b[1;34m\u001b[0m\n\u001b[0;32m      2\u001b[0m \u001b[0mA\u001b[0m \u001b[1;33m=\u001b[0m \u001b[0mnp\u001b[0m\u001b[1;33m.\u001b[0m\u001b[0marray\u001b[0m\u001b[1;33m(\u001b[0m\u001b[1;33m[\u001b[0m\u001b[1;33m[\u001b[0m\u001b[1;36m0\u001b[0m\u001b[1;33m,\u001b[0m \u001b[1;36m0\u001b[0m\u001b[1;33m]\u001b[0m\u001b[1;33m,\u001b[0m \u001b[1;33m[\u001b[0m\u001b[1;36m0\u001b[0m\u001b[1;33m,\u001b[0m \u001b[1;36m1\u001b[0m\u001b[1;33m]\u001b[0m\u001b[1;33m]\u001b[0m\u001b[1;33m)\u001b[0m\u001b[1;33m\u001b[0m\u001b[1;33m\u001b[0m\u001b[0m\n\u001b[0;32m      3\u001b[0m \u001b[0mA\u001b[0m \u001b[1;33m=\u001b[0m \u001b[0mnp\u001b[0m\u001b[1;33m.\u001b[0m\u001b[0marray\u001b[0m\u001b[1;33m(\u001b[0m\u001b[1;33m[\u001b[0m\u001b[1;33m[\u001b[0m\u001b[1;36m1\u001b[0m\u001b[1;33m,\u001b[0m \u001b[1;36m0\u001b[0m\u001b[1;33m,\u001b[0m \u001b[1;36m0\u001b[0m\u001b[1;33m]\u001b[0m\u001b[1;33m,\u001b[0m \u001b[1;33m[\u001b[0m\u001b[1;36m0\u001b[0m\u001b[1;33m,\u001b[0m \u001b[1;36m1\u001b[0m\u001b[1;33m,\u001b[0m \u001b[1;36m0\u001b[0m\u001b[1;33m]\u001b[0m\u001b[1;33m,\u001b[0m \u001b[1;33m[\u001b[0m\u001b[1;36m1\u001b[0m\u001b[1;33m,\u001b[0m \u001b[1;36m1\u001b[0m\u001b[1;33m,\u001b[0m \u001b[1;36m0\u001b[0m\u001b[1;33m]\u001b[0m\u001b[1;33m]\u001b[0m\u001b[1;33m)\u001b[0m\u001b[1;33m\u001b[0m\u001b[1;33m\u001b[0m\u001b[0m\n\u001b[1;32m----> 4\u001b[1;33m \u001b[0mprint\u001b[0m\u001b[1;33m(\u001b[0m\u001b[1;34m'det A ='\u001b[0m\u001b[1;33m,\u001b[0m \u001b[0mgaussian_inv\u001b[0m\u001b[1;33m(\u001b[0m\u001b[0mA\u001b[0m\u001b[1;33m)\u001b[0m\u001b[1;33m)\u001b[0m\u001b[1;33m\u001b[0m\u001b[1;33m\u001b[0m\u001b[0m\n\u001b[0m\u001b[0;32m      5\u001b[0m \u001b[0mprint\u001b[0m\u001b[1;33m(\u001b[0m\u001b[0mnp\u001b[0m\u001b[1;33m.\u001b[0m\u001b[0mlinalg\u001b[0m\u001b[1;33m.\u001b[0m\u001b[0minv\u001b[0m\u001b[1;33m(\u001b[0m\u001b[0mA\u001b[0m\u001b[1;33m)\u001b[0m\u001b[1;33m)\u001b[0m\u001b[1;33m\u001b[0m\u001b[1;33m\u001b[0m\u001b[0m\n",
      "\u001b[1;32m<ipython-input-11-424ba7d8dabd>\u001b[0m in \u001b[0;36mgaussian_inv\u001b[1;34m(A)\u001b[0m\n\u001b[0;32m      9\u001b[0m                 \u001b[1;32mpass\u001b[0m\u001b[1;33m\u001b[0m\u001b[1;33m\u001b[0m\u001b[0m\n\u001b[0;32m     10\u001b[0m         \u001b[1;32mif\u001b[0m \u001b[0mk\u001b[0m \u001b[1;33m==\u001b[0m \u001b[0mn\u001b[0m\u001b[1;33m-\u001b[0m\u001b[1;36m1\u001b[0m \u001b[1;32mand\u001b[0m \u001b[0mabs\u001b[0m\u001b[1;33m(\u001b[0m\u001b[0mA\u001b[0m\u001b[1;33m[\u001b[0m\u001b[0mk\u001b[0m\u001b[1;33m,\u001b[0m \u001b[0mi\u001b[0m\u001b[1;33m]\u001b[0m\u001b[1;33m)\u001b[0m\u001b[1;33m<\u001b[0m\u001b[1;36m1\u001b[0m\u001b[1;33m/\u001b[0m\u001b[1;33m(\u001b[0m\u001b[1;36m2\u001b[0m\u001b[1;33m**\u001b[0m\u001b[1;36m16\u001b[0m\u001b[1;33m)\u001b[0m\u001b[1;33m:\u001b[0m\u001b[1;33m\u001b[0m\u001b[1;33m\u001b[0m\u001b[0m\n\u001b[1;32m---> 11\u001b[1;33m             \u001b[1;32mraise\u001b[0m \u001b[0mException\u001b[0m\u001b[1;33m(\u001b[0m\u001b[1;34m\"Macierz nie jest odwracalna.\"\u001b[0m\u001b[1;33m)\u001b[0m\u001b[1;33m\u001b[0m\u001b[1;33m\u001b[0m\u001b[0m\n\u001b[0m\u001b[0;32m     12\u001b[0m         \u001b[0mA_id\u001b[0m\u001b[1;33m[\u001b[0m\u001b[0mi\u001b[0m\u001b[1;33m,\u001b[0m \u001b[0mi\u001b[0m\u001b[1;33m:\u001b[0m\u001b[1;33m]\u001b[0m \u001b[1;33m=\u001b[0m \u001b[1;33m(\u001b[0m\u001b[1;36m1\u001b[0m\u001b[1;33m/\u001b[0m\u001b[0mA_id\u001b[0m\u001b[1;33m[\u001b[0m\u001b[0mi\u001b[0m\u001b[1;33m,\u001b[0m \u001b[0mi\u001b[0m\u001b[1;33m]\u001b[0m\u001b[1;33m)\u001b[0m\u001b[1;33m*\u001b[0m\u001b[0mA_id\u001b[0m\u001b[1;33m[\u001b[0m\u001b[0mi\u001b[0m\u001b[1;33m,\u001b[0m \u001b[0mi\u001b[0m\u001b[1;33m:\u001b[0m\u001b[1;33m]\u001b[0m\u001b[1;33m\u001b[0m\u001b[1;33m\u001b[0m\u001b[0m\n\u001b[0;32m     13\u001b[0m \u001b[1;33m\u001b[0m\u001b[0m\n",
      "\u001b[1;31mException\u001b[0m: Macierz nie jest odwracalna."
     ]
    }
   ],
   "source": [
    "A = np.array([[1, 2, 3], [4, 5, 6], [7, 8, 10]])\n",
    "A = np.array([[0, 0], [0, 1]])\n",
    "A = np.array([[1, 0, 0], [0, 1, 0], [1, 1, 0]])\n",
    "print('det A =', gaussian_inv(A))\n",
    "print(np.linalg.inv(A))"
   ]
  },
  {
   "cell_type": "code",
   "execution_count": 151,
   "id": "6426fa69",
   "metadata": {},
   "outputs": [],
   "source": [
    "#Kod działający\n",
    "\n",
    "def gaussian_rank(A):\n",
    "    if A.shape[0]>A.shape[1]:\n",
    "        A = A.T\n",
    "    n = A.shape[0]\n",
    "    for i in range(n):\n",
    "        for j in range(i, A.shape[1]):\n",
    "            for k in range(i, n):\n",
    "                if abs(A[k, j])>=1/(2**16):\n",
    "                    A[:, [i, j]] = A[:, [j, i]]\n",
    "                    A[[k, i]] = A[[i, k]]\n",
    "                    break\n",
    "            break\n",
    "        if j == A.shape[1]-1 and abs(A[i, i])<1/(2**16):\n",
    "            return i\n",
    "        \n",
    "        for l in range(i+1, n):\n",
    "            const = -A[l, i]/A[i, i]\n",
    "            A[l, i:] = A[l, i:] + const*A[i, i:]\n",
    "    return n"
   ]
  },
  {
   "cell_type": "code",
   "execution_count": 149,
   "id": "92e718dd",
   "metadata": {},
   "outputs": [],
   "source": [
    "#Kod działający\n",
    "\n",
    "def gaussian_rank(A):\n",
    "    if A.shape[0]>A.shape[1]:\n",
    "        A = A.T\n",
    "    n = A.shape[0]\n",
    "    for i in range(n):\n",
    "        for j in range(i, A.shape[1]):\n",
    "            if np.any(A[i:, j]):\n",
    "                A[:, [i, j]] = A[:, [j, i]]\n",
    "                for k in range(i, n):\n",
    "                    if abs(A[k, i])>=1/(2**16):\n",
    "                        A[[k, i]] = A[[i, k]]\n",
    "                        break\n",
    "                break\n",
    "            if j == A.shape[1]-1 and abs(A[i, j])<1/(2**16):\n",
    "                return i\n",
    "        \n",
    "        for l in range(i+1, n):\n",
    "            const = -A[l, i]/A[i, i]\n",
    "            A[l, i:] = A[l, i:] + const*A[i, i:]\n",
    "    return n"
   ]
  },
  {
   "cell_type": "code",
   "execution_count": 152,
   "id": "b7d577a5",
   "metadata": {},
   "outputs": [
    {
     "name": "stdout",
     "output_type": "stream",
     "text": [
      "rank A = 1\n",
      "Pakiet linalg uważa, ze odpowiedź to 3\n"
     ]
    }
   ],
   "source": [
    "A = np.array([[1, 0, 1, 1, 0, 0], \n",
    "              [0, 0, 0, 0, 0, 1],\n",
    "              [1, 0, 1, 1, 0, 0], \n",
    "              [0, 0, 0, 1, 0, 0]])\n",
    "#A = np.array([[5, 7], [0, 0]])\n",
    "#A = np.array([[1, 2], [3, 5], [4, 7], [6, 8]])\n",
    "#A = np.array([[1, 2, 3, 4], [2, 4, 6, 8]])\n",
    "print('rank A =', gaussian_rank(A))\n",
    "print('Pakiet linalg uważa, ze odpowiedź to', np.linalg.matrix_rank(A))"
   ]
  },
  {
   "cell_type": "code",
   "execution_count": null,
   "id": "66161689",
   "metadata": {},
   "outputs": [],
   "source": []
  }
 ],
 "metadata": {
  "kernelspec": {
   "display_name": "Python 3",
   "language": "python",
   "name": "python3"
  },
  "language_info": {
   "codemirror_mode": {
    "name": "ipython",
    "version": 3
   },
   "file_extension": ".py",
   "mimetype": "text/x-python",
   "name": "python",
   "nbconvert_exporter": "python",
   "pygments_lexer": "ipython3",
   "version": "3.8.8"
  }
 },
 "nbformat": 4,
 "nbformat_minor": 5
}
