{
 "cells": [
  {
   "cell_type": "code",
   "execution_count": 1,
   "id": "fd6e37f4",
   "metadata": {},
   "outputs": [],
   "source": [
    "from math import isclose\n",
    "import random\n",
    "import time\n",
    "from statistics import mean\n",
    "import matplotlib.pyplot as plt\n",
    "import numpy as np"
   ]
  },
  {
   "cell_type": "code",
   "execution_count": 2,
   "id": "6af96ecb-0bfc-4bdc-bf0b-7d05e95428eb",
   "metadata": {},
   "outputs": [],
   "source": [
    "def random_matrices(columns, rows, quantity=1):\n",
    "    result = []\n",
    "    for i in range(quantity):\n",
    "        result.append(np.random.rand(rows, columns))\n",
    "    return result"
   ]
  },
  {
   "cell_type": "code",
   "execution_count": 3,
   "id": "dfe8bc9f-d20d-4cd9-b3ef-6036e8023987",
   "metadata": {},
   "outputs": [],
   "source": [
    "def backward_substitution(L, b):\n",
    "    x = np.zeros_like(b, dtype=float)\n",
    "    if L[L.shape[0]-1, L.shape[0]-1] == 0:\n",
    "        raise ValueError('Układ równań nie ma rozwiązań.')\n",
    "    \n",
    "    for i in range(L.shape[0]-1, -1, -1):\n",
    "        s = 0\n",
    "        for j in range (i+1, min(L.shape)):\n",
    "            s += L[i, j]*x[j]\n",
    "        x[i] = (b[i] - s)/L[i, i]\n",
    "    return x"
   ]
  },
  {
   "cell_type": "code",
   "execution_count": 4,
   "id": "6aa5694d-3575-4455-859e-eb8fd1162c7c",
   "metadata": {},
   "outputs": [
    {
     "name": "stdout",
     "output_type": "stream",
     "text": [
      "Znalezione rozwiązanie układu równań: [6.         2.33333333 2.        ]\n",
      "Wynik poprawny: [6.         2.33333333 2.        ]\n"
     ]
    }
   ],
   "source": [
    "A = np.array([[1, 0, 0], [0, 3, 0], [0, 0, 2]])\n",
    "b = [6, 7, 4]\n",
    "print('Znalezione rozwiązanie układu równań:', backward_substitution(A, b))\n",
    "print('Wynik poprawny:', np.linalg.solve(A, b))"
   ]
  },
  {
   "cell_type": "code",
   "execution_count": 5,
   "id": "6e73f92e",
   "metadata": {},
   "outputs": [],
   "source": [
    "def forward_substitution(U, b):\n",
    "    x = np.zeros_like(b, dtype=float)\n",
    "    if U[0, 0] == 0:\n",
    "        raise ValueError('Układ równań nie ma rozwiązań.')\n",
    "    \n",
    "    for i in range(len(U)):\n",
    "        s = 0\n",
    "        for j in range(i):\n",
    "            s += U[i, j]*x[j]\n",
    "        x[i] = (b[i]-s)/U[i, i]\n",
    "    return x"
   ]
  },
  {
   "cell_type": "code",
   "execution_count": 6,
   "id": "ca31abc1",
   "metadata": {},
   "outputs": [
    {
     "name": "stdout",
     "output_type": "stream",
     "text": [
      "Znalezione rozwiązanie układu równań: [6.         2.66666667 1.66666667]\n",
      "Wynik poprawny: [6.         2.66666667 1.66666667]\n"
     ]
    }
   ],
   "source": [
    "A = np.array([[1, 0, 0], [-1, 3, 0], [0, -3, 3]])\n",
    "b = [6, 2, -3]\n",
    "print('Znalezione rozwiązanie układu równań:', forward_substitution(A, b))\n",
    "print('Wynik poprawny:', np.linalg.solve(A, b))"
   ]
  },
  {
   "cell_type": "code",
   "execution_count": 7,
   "id": "b21cf057",
   "metadata": {},
   "outputs": [],
   "source": [
    "def gaussian_elimination(A, b):\n",
    "    n = A.shape[0]\n",
    "    A_b = np.c_[A, b]\n",
    "    for i in range(n):\n",
    "        for k in range(i, n):\n",
    "            if abs(A_b[k, i])>=1/(2**16):\n",
    "                A_b[[k, i]] = A_b[[i, k]]\n",
    "                break\n",
    "        if k == n-1 and abs(A_b[k, i])<1/(2**16):\n",
    "                break\n",
    "        \n",
    "        for j in range(i+1, n):\n",
    "            const = -A_b[j, i]/A_b[i, i]\n",
    "            A_b[j, i:] = A_b[j, i:] + const*A_b[i, i:]\n",
    "    return A_b[:,:n], A_b[:, n]"
   ]
  },
  {
   "cell_type": "code",
   "execution_count": 8,
   "id": "9c62cea6",
   "metadata": {},
   "outputs": [
    {
     "name": "stdout",
     "output_type": "stream",
     "text": [
      "Znaleziona postać zredukowana oraz wektor c:\n",
      " U= [[1 2 0]\n",
      " [0 5 0]\n",
      " [0 0 0]] \n",
      "c= [2 2 0]\n"
     ]
    }
   ],
   "source": [
    "A = np.array([[1, 2, 3], [4, 5, 6], [7, 8, 10]])\n",
    "b = np.array([1, 2, 3])\n",
    "A = np.array([[1, 2, 0], [0, 5, 0], [0, 8, 0]])\n",
    "b = np.array([2, 2, 3,])\n",
    "U, c = gaussian_elimination(A, b)\n",
    "print('Znaleziona postać zredukowana oraz wektor c:\\n', 'U=', U, '\\nc=', c)"
   ]
  },
  {
   "cell_type": "code",
   "execution_count": 9,
   "id": "e63a05a4",
   "metadata": {},
   "outputs": [],
   "source": [
    "def gaussian_det(A):\n",
    "    n = A.shape[0]\n",
    "    ilosc_translacji = 0\n",
    "    for i in range(n):\n",
    "        if abs(A[i, i])<1/(2**16):\n",
    "            ilosc_translacji += 1\n",
    "            for k in range(i, n):\n",
    "                if abs(A[k, i])>=1/(2**16):\n",
    "                    A[[k, i]] = A[[i, k]]\n",
    "                    break\n",
    "            if k == n-1 and abs(A[k, i])<1/(2**16):\n",
    "                return 0\n",
    "        \n",
    "        for j in range(i+1, n):\n",
    "            const = -A[j, i]/A[i, i]\n",
    "            A[j, i:] = A[j, i:] + const*A[i, i:]\n",
    "    det = 1\n",
    "    for i in range(n):\n",
    "        det = det*A[i, i]\n",
    "    return (-1)**ilosc_translacji*det"
   ]
  },
  {
   "cell_type": "code",
   "execution_count": 10,
   "id": "14453f26-45e6-4576-aa8f-24183144c19b",
   "metadata": {},
   "outputs": [
    {
     "name": "stdout",
     "output_type": "stream",
     "text": [
      "Znaleziony wyznacznik: -3\n",
      "Wynik poprawny: -3.0000000000000004\n"
     ]
    }
   ],
   "source": [
    "A = np.array([[1, 2, 3], [4, 5, 6], [7, 8, 10]])\n",
    "#A = np.array([[1, 0, 1], [0, 1, 0], [0, 1, 0]])\n",
    "print('Znaleziony wyznacznik:', gaussian_det(A))\n",
    "print('Wynik poprawny:', np.linalg.det(A))"
   ]
  },
  {
   "cell_type": "code",
   "execution_count": 11,
   "id": "988ea190-151a-42b6-83f8-ac9c5e8dee9b",
   "metadata": {},
   "outputs": [
    {
     "name": "stdout",
     "output_type": "stream",
     "text": [
      "Otrzymano 10000 poprawnych wyników na 10000 testów.\n"
     ]
    }
   ],
   "source": [
    "n = 10000\n",
    "i = 0\n",
    "for array in random_matrices(4, 4, n):\n",
    "    if isclose(gaussian_det(array), np.linalg.det(array)):\n",
    "        i+=1\n",
    "print('Otrzymano', i, 'poprawnych wyników na', n, 'testów.')"
   ]
  },
  {
   "cell_type": "code",
   "execution_count": 12,
   "id": "9a03a850",
   "metadata": {},
   "outputs": [],
   "source": [
    "def gaussian_inv(A):\n",
    "    n = A.shape[0]\n",
    "    ilosc_translacji = 0\n",
    "    A_id = np.c_[A, np.identity(n)]\n",
    "    for i in range(n):\n",
    "        for k in range(i, n):\n",
    "            if abs(A_id[k, i])>=1/(2**16):\n",
    "                A_id[[k, i]] = A_id[[i, k]]\n",
    "                pass\n",
    "        if k == n-1 and abs(A[k, i])<1/(2**16):\n",
    "            raise ValueError(\"Podana macierz jest osobliwa.\")\n",
    "        A_id[i, i:] = (1/A_id[i, i])*A_id[i, i:]\n",
    "        \n",
    "        for j in range(n):\n",
    "            if i != j:\n",
    "                const = -A_id[j, i]\n",
    "                A_id[j, i:] = A_id[j, i:] + const*A_id[i, i:]\n",
    "    return A_id[:, n:]"
   ]
  },
  {
   "cell_type": "code",
   "execution_count": 13,
   "id": "f5b155d7",
   "metadata": {},
   "outputs": [
    {
     "name": "stdout",
     "output_type": "stream",
     "text": [
      "Znaleziona macierz odwrotna:\n",
      " [[-0.66666667 -1.33333333  1.        ]\n",
      " [-0.66666667  3.66666667 -2.        ]\n",
      " [ 1.         -2.          1.        ]]\n",
      "Wynik poprawny:\n",
      " [[-0.66666667 -1.33333333  1.        ]\n",
      " [-0.66666667  3.66666667 -2.        ]\n",
      " [ 1.         -2.          1.        ]]\n"
     ]
    }
   ],
   "source": [
    "A = np.array([[1, 2, 3], [4, 5, 6], [7, 8, 10]])\n",
    "#A = np.array([[1, 0, 0], [0, 1, 0], [1, 1, 0]])\n",
    "print('Znaleziona macierz odwrotna:\\n', gaussian_inv(A))\n",
    "print('Wynik poprawny:\\n', np.linalg.inv(A))"
   ]
  },
  {
   "cell_type": "code",
   "execution_count": 14,
   "id": "92e718dd",
   "metadata": {},
   "outputs": [],
   "source": [
    "#Spaghetti code oryginalny dla potomnych <3\n",
    "\n",
    "def gaussian_rank_original(A):\n",
    "    for i in range(A.shape[0]):\n",
    "        for j in range(i, A.shape[1]):\n",
    "            if np.any(A[i:, j]):\n",
    "                A[:, [i, j]] = A[:, [j, i]]\n",
    "                for k in range(i, A.shape[0]):\n",
    "                    if abs(A[k, i])>=1/(2**16):\n",
    "                        A[[k, i]] = A[[i, k]]\n",
    "                        break\n",
    "                break\n",
    "            if j == A.shape[1]-1 and abs(A[i, j])<1/(2**16):\n",
    "                return i\n",
    "        \n",
    "        for l in range(i+1, A.shape[0]):\n",
    "            const = -A[l, i]/A[i, i]\n",
    "            A[l, i:] = A[l, i:] + const*A[i, i:]\n",
    "    return n"
   ]
  },
  {
   "cell_type": "code",
   "execution_count": 15,
   "id": "9466ac12-19be-4f6e-809b-36e92c575c2d",
   "metadata": {},
   "outputs": [],
   "source": [
    "def gaussian_rank(A):\n",
    "    for pivot in range(min(A.shape)):\n",
    "        found_non_zero = False\n",
    "        for col in range(pivot, A.shape[1]):\n",
    "            for row in range(pivot, A.shape[0]):\n",
    "                if abs(A[row, col])>=1/(2**16):\n",
    "                    found_non_zero = True\n",
    "                    A[:, [pivot, col]] = A[:, [col, pivot]]\n",
    "                    A[[row, pivot]] = A[[pivot, row]]\n",
    "                    break\n",
    "            if found_non_zero:\n",
    "                break\n",
    "            if col==A.shape[1]-1 and not found_non_zero:\n",
    "                return pivot\n",
    "        \n",
    "        for row in range(pivot+1, A.shape[0]):\n",
    "            const = -A[row, pivot]/A[pivot, pivot]\n",
    "            A[row, pivot:] = A[row, pivot:] + const*A[pivot, pivot:]\n",
    "    return min(A.shape)"
   ]
  },
  {
   "cell_type": "code",
   "execution_count": 16,
   "id": "66161689",
   "metadata": {},
   "outputs": [
    {
     "name": "stdout",
     "output_type": "stream",
     "text": [
      "Znaleziony rząd: 2\n",
      "Wynik poprawny: 2\n"
     ]
    }
   ],
   "source": [
    "A = np.array([[0, 1, 1], [0, 0, 1]])\n",
    "print('Znaleziony rząd:', gaussian_rank(A))\n",
    "print('Wynik poprawny:', np.linalg.matrix_rank(A))"
   ]
  },
  {
   "cell_type": "code",
   "execution_count": 17,
   "id": "2d24b1c2-e4b0-4589-bd8e-afe3824a585c",
   "metadata": {},
   "outputs": [
    {
     "name": "stdout",
     "output_type": "stream",
     "text": [
      "Otrzymano 3000 poprawnych wyników na 3000 testów.\n"
     ]
    }
   ],
   "source": [
    "n1 = 1000\n",
    "n2 = 1000\n",
    "n3 = 1000\n",
    "i = 0\n",
    "for array in random_matrices(3, 5, n1):\n",
    "    if gaussian_rank(array)==np.linalg.matrix_rank(array):\n",
    "        i+=1\n",
    "for array in random_matrices(5, 3, n2):\n",
    "    if gaussian_rank(array)==np.linalg.matrix_rank(array):\n",
    "        i+=1\n",
    "for array in random_matrices(4, 4, n3):\n",
    "    if gaussian_rank(array)==np.linalg.matrix_rank(array):\n",
    "        i+=1\n",
    "print('Otrzymano', i, 'poprawnych wyników na', n1+n2+n3, 'testów.')"
   ]
  },
  {
   "cell_type": "code",
   "execution_count": null,
   "id": "8ecfb1cd-0a71-4aba-b005-da13b758abef",
   "metadata": {},
   "outputs": [],
   "source": []
  }
 ],
 "metadata": {
  "kernelspec": {
   "display_name": "Python 3 (ipykernel)",
   "language": "python",
   "name": "python3"
  },
  "language_info": {
   "codemirror_mode": {
    "name": "ipython",
    "version": 3
   },
   "file_extension": ".py",
   "mimetype": "text/x-python",
   "name": "python",
   "nbconvert_exporter": "python",
   "pygments_lexer": "ipython3",
   "version": "3.12.4"
  }
 },
 "nbformat": 4,
 "nbformat_minor": 5
}
