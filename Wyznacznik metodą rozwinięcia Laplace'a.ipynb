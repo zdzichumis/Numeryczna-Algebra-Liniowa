{
 "cells": [
  {
   "cell_type": "code",
   "execution_count": 1,
   "id": "aa0036cb-5485-447e-96ac-af4c6da68b51",
   "metadata": {},
   "outputs": [],
   "source": [
    "from math import pow\n",
    "from math import log\n",
    "from math import factorial\n",
    "import random\n",
    "import time\n",
    "from statistics import mean\n",
    "import matplotlib.pyplot as plt\n",
    "import numpy as np"
   ]
  },
  {
   "cell_type": "code",
   "execution_count": 2,
   "id": "9ea0e84b-e69b-4f96-94bc-61e34957cb22",
   "metadata": {},
   "outputs": [],
   "source": [
    "def Reduce(A, i_0, j_0):\n",
    "    B = []\n",
    "    for i in range(len(A)):\n",
    "        wiersz = []\n",
    "        if i!=i_0:\n",
    "            for j in range(len(A)):\n",
    "                if j!=j_0:\n",
    "                    wiersz.append(A[i][j])\n",
    "            B.append(wiersz)\n",
    "    return B"
   ]
  },
  {
   "cell_type": "code",
   "execution_count": 3,
   "id": "21aeb7be-7979-4265-be64-a6d1ccf7c599",
   "metadata": {},
   "outputs": [],
   "source": [
    "def Det(A, k=0, columns = False):   \n",
    "    try:\n",
    "        if len(A)==1:\n",
    "            s = A[0][0]\n",
    "        else:\n",
    "            s=0\n",
    "            for i in range(len(A)):\n",
    "                if columns == True:\n",
    "                    s = s+ A[i][k]*pow(-1, i+k)*Det(Reduce(A, i, k))\n",
    "                if columns == False:\n",
    "                    s = s+ A[k][i]*pow(-1, k+i)*Det(Reduce(A, k, i))\n",
    "        return s\n",
    "    except:\n",
    "        if len(A)!=len(A[0]):\n",
    "            print('Argument nie jest macierzą kwadratową.')\n",
    "        if k>len(A):\n",
    "            print('Parametr k jest większy niż rozmiar macierzy.')"
   ]
  },
  {
   "cell_type": "code",
   "execution_count": 4,
   "id": "bddc4d25-b679-4679-8254-43a5fdd07a88",
   "metadata": {},
   "outputs": [],
   "source": [
    "def Random_matrix(m, n, random_range = (1, 100)):\n",
    "    A = []\n",
    "    for i in range(m):\n",
    "        wiersz = []\n",
    "        for j in range(n):\n",
    "            \n",
    "            wiersz.append(random.randint(random_range[0], random_range[1]))\n",
    "        A.append(wiersz)\n",
    "    return A"
   ]
  },
  {
   "cell_type": "code",
   "execution_count": 5,
   "id": "3adfc9e4-93b3-43e4-bb3e-fd52b400d7aa",
   "metadata": {},
   "outputs": [
    {
     "name": "stdout",
     "output_type": "stream",
     "text": [
      "A= [[-1, 4, 8], [10, 4, 0], [-9, 6, -5]] , det(A)= 988.0\n",
      "B= [[2, 46, 4, 5], [0, 3, 0, 16], [0, 0, 2, 45], [0, 0, 0, 1]] , det(B)= 12.0\n"
     ]
    }
   ],
   "source": [
    "A = Random_matrix(3, 3, random_range = (-10, 10))\n",
    "print('A=', A, ', det(A)=', Det(A))\n",
    "B = [[2, 46, 4, 5], [0, 3, 0, 16], [0, 0, 2, 45], [0, 0, 0, 1]]\n",
    "print('B=', B, ', det(B)=', Det(B, 2, True))"
   ]
  },
  {
   "cell_type": "code",
   "execution_count": 9,
   "id": "eed4ffbb-c8ec-46de-b1b1-c9ee91f2c641",
   "metadata": {},
   "outputs": [
    {
     "data": {
      "image/png": "[encoded data removed]",
      "text/plain": [
       "<Figure size 640x480 with 1 Axes>"
      ]
     },
     "metadata": {},
     "output_type": "display_data"
    }
   ],
   "source": [
    "ilosc_macierzy = 1\n",
    "wymiary_macierzy = range(1, 11)\n",
    "x = wymiary_macierzy\n",
    "y=[]\n",
    "for dim in wymiary_macierzy:\n",
    "    pomiary = []\n",
    "    for i in range(ilosc_macierzy):\n",
    "        A = Random_matrix(dim, dim, (1, 10))\n",
    "        start_time = time.time()\n",
    "        Det(A)\n",
    "        measured_time = time.time() - start_time\n",
    "        pomiary.append(log(1+measured_time))\n",
    "    y.append(mean(pomiary))\n",
    "plt.plot(x, y)\n",
    "plt.show()"
   ]
  },
  {
   "cell_type": "code",
   "execution_count": null,
   "id": "862cecd5-7ad8-4990-a316-6a9cb92e8486",
   "metadata": {},
   "outputs": [],
   "source": []
  }
 ],
 "metadata": {
  "kernelspec": {
   "display_name": "Python 3 (ipykernel)",
   "language": "python",
   "name": "python3"
  },
  "language_info": {
   "codemirror_mode": {
    "name": "ipython",
    "version": 3
   },
   "file_extension": ".py",
   "mimetype": "text/x-python",
   "name": "python",
   "nbconvert_exporter": "python",
   "pygments_lexer": "ipython3",
   "version": "3.12.4"
  }
 },
 "nbformat": 4,
 "nbformat_minor": 5
}
