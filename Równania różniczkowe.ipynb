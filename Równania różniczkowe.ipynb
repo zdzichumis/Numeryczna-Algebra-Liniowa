{
 "cells": [
  {
   "cell_type": "code",
   "execution_count": 35,
   "id": "8ed04df5",
   "metadata": {},
   "outputs": [],
   "source": [
    "import numpy as np\n",
    "import pandas as pd\n",
    "import matplotlib.pyplot as plt"
   ]
  },
  {
   "cell_type": "code",
   "execution_count": 69,
   "id": "1cbabfa2",
   "metadata": {},
   "outputs": [],
   "source": [
    "class euler:\n",
    "    \n",
    "    def __init__(self, f, t_0, diffs_y):\n",
    "        self.f = f\n",
    "        self.degree = len(diffs_y)\n",
    "        self.t_0 = t_0\n",
    "        self.initial_conditions = diffs_y\n",
    "        self.solution = None\n",
    "        \n",
    "    def approximate(self, t, n_steps=1000, h=None):\n",
    "        if h is None:\n",
    "            h = (t-self.t_0)/n_steps\n",
    "        current_t = self.t_0\n",
    "        current_diffs_y = self.initial_conditions\n",
    "        for iteration in range(n_steps):\n",
    "            current_diffs_y[:self.degree-1] = current_diffs_y[:self.degree-1] + h*current_diffs_y[1:]\n",
    "            current_diffs_y[self.degree-1] += h*self.f(current_t, current_diffs_y)\n",
    "            current_t += h\n",
    "        return current_diffs_y[0]\n",
    "            \n",
    "    def show_function(self):    \n",
    "        def solution(x):\n",
    "            if x not in x_range:\n",
    "                return \"undefined\"\n",
    "            else:\n",
    "                return self.approximate()\n",
    "        return solution"
   ]
  },
  {
   "cell_type": "code",
   "execution_count": 72,
   "id": "1942153b",
   "metadata": {},
   "outputs": [
    {
     "data": {
      "text/plain": [
       "0"
      ]
     },
     "execution_count": 72,
     "metadata": {},
     "output_type": "execute_result"
    }
   ],
   "source": [
    "def f(x, diffs_y):\n",
    "    mass=10\n",
    "    k=1\n",
    "    return -k/mass*x\n",
    "\n",
    "diff = euler(f, 0, np.array([0, 0]))\n",
    "value_at_x = diff.approximate(0)\n",
    "value_at_x"
   ]
  },
  {
   "cell_type": "code",
   "execution_count": null,
   "id": "1aea868d",
   "metadata": {},
   "outputs": [],
   "source": []
  }
 ],
 "metadata": {
  "kernelspec": {
   "display_name": "Python 3",
   "language": "python",
   "name": "python3"
  },
  "language_info": {
   "codemirror_mode": {
    "name": "ipython",
    "version": 3
   },
   "file_extension": ".py",
   "mimetype": "text/x-python",
   "name": "python",
   "nbconvert_exporter": "python",
   "pygments_lexer": "ipython3",
   "version": "3.8.8"
  }
 },
 "nbformat": 4,
 "nbformat_minor": 5
}
