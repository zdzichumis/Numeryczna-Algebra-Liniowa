{
 "cells": [
  {
   "cell_type": "code",
   "execution_count": 1,
   "id": "b738884c",
   "metadata": {},
   "outputs": [],
   "source": [
    "import numpy as np"
   ]
  },
  {
   "cell_type": "code",
   "execution_count": 2,
   "id": "6388043e",
   "metadata": {},
   "outputs": [],
   "source": [
    "def gram_schmidt(A):\n",
    "    n = A.shape[1]\n",
    "    Q = np.zeros_like(A, dtype=float)\n",
    "    for i in range(n):\n",
    "        qi = A[:,i]\n",
    "        for j in range(i):\n",
    "            proj = np.dot(A[:,i], Q[:,j]) * Q[:,j]\n",
    "            qi = qi - proj\n",
    "        Q[:,i] = qi / np.linalg.norm(qi)\n",
    "    return Q"
   ]
  },
  {
   "cell_type": "code",
   "execution_count": 3,
   "id": "ad2067ec",
   "metadata": {},
   "outputs": [
    {
     "name": "stdout",
     "output_type": "stream",
     "text": [
      "A\n",
      " [[1 2 3]\n",
      " [4 5 6]\n",
      " [7 8 1]]\n",
      "Wynik kodu:\n",
      " [[ 0.12309149  0.90453403 -0.40824829]\n",
      " [ 0.49236596  0.30151134  0.81649658]\n",
      " [ 0.86164044 -0.30151134 -0.40824829]]\n",
      "Wartości iloczynów skalarnych i norm:\n",
      " [[ 1.00000000e+00  1.45860311e-15 -1.88712020e-15]\n",
      " [ 1.45860311e-15  1.00000000e+00 -1.80126295e-15]\n",
      " [-1.88712020e-15 -1.80126295e-15  1.00000000e+00]]\n"
     ]
    }
   ],
   "source": [
    "A = np.array([[1,2,3],\n",
    "              [4,5,6],\n",
    "              [7,8,1]])\n",
    "print('A\\n', A)\n",
    "\n",
    "Q = gram_schmidt(A)\n",
    "print('Wynik kodu:\\n', Q)\n",
    "print('Wartości iloczynów skalarnych i norm:\\n', Q.T@Q)"
   ]
  },
  {
   "cell_type": "code",
   "execution_count": 4,
   "id": "0bc6debc",
   "metadata": {},
   "outputs": [],
   "source": [
    "def random_matrices(columns, rows, quantity=1):\n",
    "    result = []\n",
    "    for i in range(quantity):\n",
    "        result.append(np.random.rand(rows, columns))\n",
    "    return np.array(result)"
   ]
  },
  {
   "cell_type": "code",
   "execution_count": 5,
   "id": "dff38de2",
   "metadata": {},
   "outputs": [
    {
     "name": "stdout",
     "output_type": "stream",
     "text": [
      "Otrzymano 9876 poprawnych wyników na 10000 testów.\n"
     ]
    }
   ],
   "source": [
    "n = 1000\n",
    "dim_max = 10\n",
    "i = 0\n",
    "for dim in range(1, dim_max+1):\n",
    "    for B in random_matrices(dim, dim, n):\n",
    "        array = np.matmul(B, B.T)\n",
    "        result = gram_schmidt(array)\n",
    "        if np.all(np.isclose(result.T@result, np.identity(dim)) == True):\n",
    "            i+=1\n",
    "        #else:\n",
    "            #print('array', array, '\\nwynik funkcji\\n', result.T@result)\n",
    "print('Otrzymano', i, 'poprawnych wyników na', n*dim_max, 'testów.')"
   ]
  },
  {
   "cell_type": "code",
   "execution_count": null,
   "id": "658aadfc",
   "metadata": {},
   "outputs": [],
   "source": []
  }
 ],
 "metadata": {
  "kernelspec": {
   "display_name": "Python 3",
   "language": "python",
   "name": "python3"
  },
  "language_info": {
   "codemirror_mode": {
    "name": "ipython",
    "version": 3
   },
   "file_extension": ".py",
   "mimetype": "text/x-python",
   "name": "python",
   "nbconvert_exporter": "python",
   "pygments_lexer": "ipython3",
   "version": "3.8.8"
  }
 },
 "nbformat": 4,
 "nbformat_minor": 5
}
