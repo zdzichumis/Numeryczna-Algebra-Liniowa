{
 "cells": [
  {
   "cell_type": "code",
   "execution_count": 1,
   "id": "fd6e37f4",
   "metadata": {},
   "outputs": [],
   "source": [
    "from math import pow\n",
    "import random\n",
    "import time\n",
    "from statistics import mean\n",
    "import matplotlib.pyplot as plt\n",
    "import numpy as np"
   ]
  },
  {
   "cell_type": "code",
   "execution_count": 2,
   "id": "dfe8bc9f-d20d-4cd9-b3ef-6036e8023987",
   "metadata": {},
   "outputs": [],
   "source": [
    "def backward_substitution(L, b):\n",
    "    x = np.zeros_like(b)\n",
    "    for i in range(len(L)-1, -1, -1):\n",
    "        s = 0\n",
    "        for j in range (i+1, len(L)):\n",
    "            s += A[i, j]*x[j]\n",
    "        x[i] = (b[i] - s)/A[i, i]\n",
    "    return x"
   ]
  },
  {
   "cell_type": "code",
   "execution_count": 3,
   "id": "6aa5694d-3575-4455-859e-eb8fd1162c7c",
   "metadata": {},
   "outputs": [
    {
     "name": "stdout",
     "output_type": "stream",
     "text": [
      "[2 2 1]\n",
      "[2. 2. 1.]\n"
     ]
    }
   ],
   "source": [
    "A = np.array([[1, 0, 0], [0, 2, 0], [0, 0, 3]])\n",
    "b = [2, 4, 3]\n",
    "print(backward_substitution(A, b))\n",
    "print(np.linalg.solve(A, b))"
   ]
  },
  {
   "cell_type": "code",
   "execution_count": 4,
   "id": "6e73f92e",
   "metadata": {},
   "outputs": [],
   "source": [
    "def forward_substitution(L, b):\n",
    "    x = np.zeros_like(b)\n",
    "    for i in range(len(L)):\n",
    "        s = 0\n",
    "        for j in range(i):\n",
    "            s += L[i, j]*x[j]\n",
    "        x[i] = (b[i]-s)/L[i, i]\n",
    "    return x"
   ]
  },
  {
   "cell_type": "code",
   "execution_count": 11,
   "id": "ca31abc1",
   "metadata": {},
   "outputs": [
    {
     "name": "stdout",
     "output_type": "stream",
     "text": [
      "[2 3 3]\n",
      "[2. 3. 3.]\n"
     ]
    }
   ],
   "source": [
    "A = np.array([[1, 0, 0], [-1, 2, 0], [0, -3, 4]])\n",
    "b = [2, 4, 3]\n",
    "print(forward_substitution(A, b))\n",
    "print(np.linalg.solve(A, b))"
   ]
  },
  {
   "cell_type": "code",
   "execution_count": 12,
   "id": "2a82ebcc",
   "metadata": {},
   "outputs": [],
   "source": [
    "def random_lower_triangular_matrix(m, n, random_range = (1, 10)):\n",
    "    A = []\n",
    "    for i in range(m):\n",
    "        wiersz = []\n",
    "        for j in range(n):\n",
    "            if i<=j:\n",
    "                wiersz.append(random.randint(random_range[0], random_range[1]))\n",
    "            else:\n",
    "                wiersz.append(0)\n",
    "        A.append(wiersz)\n",
    "    return np.array(A)"
   ]
  },
  {
   "cell_type": "code",
   "execution_count": 28,
   "id": "b21cf057",
   "metadata": {},
   "outputs": [],
   "source": [
    "def gaussian_elimination(A, b):\n",
    "    n = A.shape[0]\n",
    "    A_b = np.c_[A, b]\n",
    "    for i in range(n):\n",
    "        ilosc_translacji = 0\n",
    "        if abs(A_b[i, i])<1/(2**16):\n",
    "            print('weszlo dla i=', i)\n",
    "            ilosc_translacji += 1\n",
    "            for k in range(i+1, n):\n",
    "                if abs(A_b[k, i])>=1/(2**16):\n",
    "                    A_b[[k, i]] = A_b[[i, k]]\n",
    "                    pass\n",
    "        print(' dalej dla i=', i)\n",
    "        for j in range(i+1, n):\n",
    "            const = -A_b[j, i]/A_b[i, i]\n",
    "            A_b[j, i:] = A_b[j, i:] + const*A_b[i, i:]\n",
    "            \n",
    "            \n",
    "    return A_b[:,:n-1], A_b[:, n]"
   ]
  },
  {
   "cell_type": "code",
   "execution_count": 31,
   "id": "9c62cea6",
   "metadata": {},
   "outputs": [
    {
     "name": "stdout",
     "output_type": "stream",
     "text": [
      "weszlo dla i= 0\n",
      " dalej dla i= 0\n",
      " dalej dla i= 1\n",
      " dalej dla i= 2\n",
      " dalej dla i= 3\n",
      "U= [[-1  3  1]\n",
      " [ 0  2  1]\n",
      " [ 0  0  1]\n",
      " [ 0  0  0]] \n",
      "c= [3 2 0 0]\n"
     ]
    }
   ],
   "source": [
    "A = np.array([[1, 0, 0], [-1, 2, 0], [0, -3, 4]])\n",
    "A = np.array([[0, 1, 2, 4], [0, 2, 1, 1], [-1, 3, 1, 1], [0, 4, 1, 2]])\n",
    "b = np.array([1, 2, 3, 4])\n",
    "U, c = gaussian_elimination(A, b)\n",
    "print('U=', U, '\\nc=', c)"
   ]
  },
  {
   "cell_type": "code",
   "execution_count": null,
   "id": "14453f26-45e6-4576-aa8f-24183144c19b",
   "metadata": {},
   "outputs": [],
   "source": []
  }
 ],
 "metadata": {
  "kernelspec": {
   "display_name": "Python 3 (ipykernel)",
   "language": "python",
   "name": "python3"
  },
  "language_info": {
   "codemirror_mode": {
    "name": "ipython",
    "version": 3
   },
   "file_extension": ".py",
   "mimetype": "text/x-python",
   "name": "python",
   "nbconvert_exporter": "python",
   "pygments_lexer": "ipython3",
   "version": "3.12.4"
  }
 },
 "nbformat": 4,
 "nbformat_minor": 5
}
