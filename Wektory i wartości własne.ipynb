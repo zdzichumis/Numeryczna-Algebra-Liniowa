{
 "cells": [
  {
   "cell_type": "code",
   "execution_count": 7,
   "id": "5726559b",
   "metadata": {},
   "outputs": [],
   "source": [
    "import numpy as np\n",
    "import random\n",
    "\n",
    "def eig(A_original, max_iter = 10):\n",
    "    A = A_original.copy().astype(float)\n",
    "    current_A = A.copy()\n",
    "    n = A.shape[0]\n",
    "    eigenvalues = []\n",
    "    eigenvectors = np.zeros_like(A)\n",
    "    for i in range(n):\n",
    "        v = np.random.rand(n)\n",
    "        mu = np.random.normal(0, 10)\n",
    "        if i == 1:\n",
    "            current_A = A-eigenvalues[i-1] * np.outer(eigenvectors[:,i-1], eigenvectors[:,i-1].T)\n",
    "        if i > 1:\n",
    "            current_A = current_A - np.outer(eigenvectors[:,i-1], eigenvectors[:,i-1].T)\n",
    "        #print('i=', i, 'A\\n', current_A)\n",
    "        iterations = 0\n",
    "        while max(abs(current_A@v-mu*v))>2**(-10) and\\\n",
    "            iterations < max_iter:\n",
    "            v = np.linalg.solve(current_A-mu*np.identity(n), v)\n",
    "            v = v/np.linalg.norm(v)\n",
    "            mu = v.T@current_A@v\n",
    "            if abs(mu)<2**(-10):\n",
    "                mu = np.random.randn()\n",
    "            iterations += 1\n",
    "        if iterations >= max_iter:\n",
    "            print('nie znaleziono')\n",
    "        eigenvectors[:,i] = v\n",
    "        eigenvalues.append(mu)\n",
    "    return (eigenvalues, eigenvectors)"
   ]
  },
  {
   "cell_type": "code",
   "execution_count": null,
   "id": "f579fc14",
   "metadata": {},
   "outputs": [],
   "source": []
  },
  {
   "cell_type": "code",
   "execution_count": 12,
   "id": "1d57440f",
   "metadata": {},
   "outputs": [
    {
     "name": "stdout",
     "output_type": "stream",
     "text": [
      "(array([13.27009751, -0.08044285,  2.81034534]), array([[ 0.28122477,  0.95520076, -0.09221791],\n",
      "       [ 0.47210705, -0.22137446, -0.85329261],\n",
      "       [ 0.83548044, -0.1964303 ,  0.51321299]]))\n",
      "(array([ 2.81034534e+00, -8.04428504e-02, -2.51787677e-15]), array([[ 0.09221791,  0.95520076,  0.28122477],\n",
      "       [ 0.85329261, -0.22137446,  0.47210705],\n",
      "       [-0.51321299, -0.1964303 ,  0.83548044]]))\n"
     ]
    }
   ],
   "source": [
    "A = np.array([[1, 2, 3],\n",
    "              [2, 5, 4],\n",
    "              [3, 4, 10]])\n",
    "x = np.linalg.eig(A)\n",
    "print(x)\n",
    "print(np.linalg.eig(A-x[0][0]*np.outer(x[1][:, 0], x[1][:, 0].T)))"
   ]
  },
  {
   "cell_type": "code",
   "execution_count": 11,
   "id": "b4afb6c4",
   "metadata": {},
   "outputs": [
    {
     "name": "stdout",
     "output_type": "stream",
     "text": [
      "nie znaleziono\n",
      "Kod:\n",
      " [2.810345315892716, -0.3899555987176914, 13.270097514127814] \n",
      " [[ 0.09213888 -0.09397679  0.28122459]\n",
      " [ 0.85331599 -0.85288457  0.47210534]\n",
      " [-0.51318831  0.51357207  0.83548146]] \n",
      "linalg:\n",
      " (array([13.27009751, -0.08044285,  2.81034534]), array([[ 0.28122477,  0.95520076, -0.09221791],\n",
      "       [ 0.47210705, -0.22137446, -0.85329261],\n",
      "       [ 0.83548044, -0.1964303 ,  0.51321299]]))\n"
     ]
    }
   ],
   "source": [
    "A = np.array([[1, 2, 3],\n",
    "              [2, 5, 4],\n",
    "              [3, 4, 10]])\n",
    "nasze_values, nasze_wektors = eig(A, max_iter = 100)\n",
    "\n",
    "print('Kod:\\n', nasze_values, '\\n', nasze_wektors, '\\nlinalg:\\n', np.linalg.eig(A))"
   ]
  },
  {
   "cell_type": "code",
   "execution_count": 4,
   "id": "034fe679",
   "metadata": {},
   "outputs": [
    {
     "name": "stdout",
     "output_type": "stream",
     "text": [
      "nie znaleziono\n",
      "Kod:\n",
      " [13.270097514241566, -0.04721582859449729, -1.000000212547373] \n",
      " [[ 0.28122458 -0.28269953  0.28282965]\n",
      " [ 0.47210462 -0.47175295  0.47172268]\n",
      " [ 0.83548187 -0.83518269  0.83515574]] \n",
      "linalg:\n",
      " (array([13.27009751, -0.08044285,  2.81034534]), array([[ 0.28122477,  0.95520076, -0.09221791],\n",
      "       [ 0.47210705, -0.22137446, -0.85329261],\n",
      "       [ 0.83548044, -0.1964303 ,  0.51321299]]))\n"
     ]
    }
   ],
   "source": [
    "#A = np.array([[1, 0],\n",
    "#              [0, 1]])\n",
    "A = np.array([[1, 2, 3],\n",
    "              [2, 5, 4],\n",
    "              [3, 4, 10]])\n",
    "nasze_values, nasze_wektors = eig(A)\n",
    "\n",
    "print('Kod:\\n', nasze_values, '\\n', nasze_wektors, '\\nlinalg:\\n', np.linalg.eig(A))"
   ]
  },
  {
   "cell_type": "code",
   "execution_count": 5,
   "id": "2376fd9e",
   "metadata": {},
   "outputs": [],
   "source": [
    "def random_matrices(columns, rows, quantity=1):\n",
    "    result = []\n",
    "    for i in range(quantity):\n",
    "        result.append(np.random.rand(rows, columns))\n",
    "    return np.array(result)"
   ]
  },
  {
   "cell_type": "code",
   "execution_count": 6,
   "id": "32810a8d",
   "metadata": {},
   "outputs": [
    {
     "name": "stdout",
     "output_type": "stream",
     "text": [
      "nie znaleziono\n"
     ]
    },
    {
     "ename": "AttributeError",
     "evalue": "'tuple' object has no attribute 'T'",
     "output_type": "error",
     "traceback": [
      "\u001b[1;31m---------------------------------------------------------------------------\u001b[0m",
      "\u001b[1;31mAttributeError\u001b[0m                            Traceback (most recent call last)",
      "\u001b[1;32m<ipython-input-6-510d4a7acf3b>\u001b[0m in \u001b[0;36m<module>\u001b[1;34m\u001b[0m\n\u001b[0;32m      6\u001b[0m         \u001b[0marray\u001b[0m \u001b[1;33m=\u001b[0m \u001b[0mnp\u001b[0m\u001b[1;33m.\u001b[0m\u001b[0mmatmul\u001b[0m\u001b[1;33m(\u001b[0m\u001b[0mA\u001b[0m\u001b[1;33m,\u001b[0m \u001b[0mA\u001b[0m\u001b[1;33m.\u001b[0m\u001b[0mT\u001b[0m\u001b[1;33m)\u001b[0m\u001b[1;33m\u001b[0m\u001b[1;33m\u001b[0m\u001b[0m\n\u001b[0;32m      7\u001b[0m         \u001b[0mresult\u001b[0m \u001b[1;33m=\u001b[0m \u001b[0meig\u001b[0m\u001b[1;33m(\u001b[0m\u001b[0marray\u001b[0m\u001b[1;33m)\u001b[0m\u001b[1;33m\u001b[0m\u001b[1;33m\u001b[0m\u001b[0m\n\u001b[1;32m----> 8\u001b[1;33m         \u001b[1;32mif\u001b[0m \u001b[0mnp\u001b[0m\u001b[1;33m.\u001b[0m\u001b[0mall\u001b[0m\u001b[1;33m(\u001b[0m\u001b[0mnp\u001b[0m\u001b[1;33m.\u001b[0m\u001b[0misclose\u001b[0m\u001b[1;33m(\u001b[0m\u001b[0mresult\u001b[0m\u001b[1;33m.\u001b[0m\u001b[0mT\u001b[0m\u001b[1;33m@\u001b[0m\u001b[0mresult\u001b[0m\u001b[1;33m,\u001b[0m \u001b[0mnp\u001b[0m\u001b[1;33m.\u001b[0m\u001b[0midentity\u001b[0m\u001b[1;33m(\u001b[0m\u001b[0mdim\u001b[0m\u001b[1;33m)\u001b[0m\u001b[1;33m)\u001b[0m \u001b[1;33m==\u001b[0m \u001b[1;32mTrue\u001b[0m\u001b[1;33m)\u001b[0m\u001b[1;33m:\u001b[0m\u001b[1;33m\u001b[0m\u001b[1;33m\u001b[0m\u001b[0m\n\u001b[0m\u001b[0;32m      9\u001b[0m             \u001b[0mi\u001b[0m\u001b[1;33m+=\u001b[0m\u001b[1;36m1\u001b[0m\u001b[1;33m\u001b[0m\u001b[1;33m\u001b[0m\u001b[0m\n\u001b[0;32m     10\u001b[0m         \u001b[1;32melse\u001b[0m\u001b[1;33m:\u001b[0m\u001b[1;33m\u001b[0m\u001b[1;33m\u001b[0m\u001b[0m\n",
      "\u001b[1;31mAttributeError\u001b[0m: 'tuple' object has no attribute 'T'"
     ]
    }
   ],
   "source": [
    "n = 1000\n",
    "dim_max = 10\n",
    "i = 0\n",
    "for dim in range(1, dim_max+1):\n",
    "    for B in random_matrices(dim, dim, n):\n",
    "        array = np.matmul(A, A.T)\n",
    "        result = eig(array)\n",
    "        if np.all(np.isclose(result.T@result, np.identity(dim)) == True):\n",
    "            i+=1\n",
    "        else:\n",
    "            print('array', array, '\\nwynik funkcji\\n', result.T@result)\n",
    "print('Otrzymano', i, 'poprawnych wyników na', n*dim_max, 'testów.')"
   ]
  },
  {
   "cell_type": "code",
   "execution_count": null,
   "id": "ce2e4672",
   "metadata": {},
   "outputs": [],
   "source": [
    "def svd(A):\n",
    "    W = A\n",
    "    Q = A\n",
    "    V = A\n",
    "    return (W, Q, V)"
   ]
  }
 ],
 "metadata": {
  "kernelspec": {
   "display_name": "Python 3",
   "language": "python",
   "name": "python3"
  },
  "language_info": {
   "codemirror_mode": {
    "name": "ipython",
    "version": 3
   },
   "file_extension": ".py",
   "mimetype": "text/x-python",
   "name": "python",
   "nbconvert_exporter": "python",
   "pygments_lexer": "ipython3",
   "version": "3.8.8"
  }
 },
 "nbformat": 4,
 "nbformat_minor": 5
}
