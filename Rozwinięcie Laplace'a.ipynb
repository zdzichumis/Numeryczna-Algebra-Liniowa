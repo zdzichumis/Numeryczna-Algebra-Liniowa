{
 "cells": [
  {
   "cell_type": "code",
   "execution_count": 43,
   "id": "aa0036cb-5485-447e-96ac-af4c6da68b51",
   "metadata": {},
   "outputs": [],
   "source": [
    "from math import pow\n",
    "from random import randint"
   ]
  },
  {
   "cell_type": "code",
   "execution_count": 39,
   "id": "9ea0e84b-e69b-4f96-94bc-61e34957cb22",
   "metadata": {},
   "outputs": [],
   "source": [
    "def Reduce(A, i_0, j_0):\n",
    "    B = []\n",
    "    for i in range(len(A)):\n",
    "        wiersz = []\n",
    "        if i!=i_0:\n",
    "            for j in range(len(A)):\n",
    "                if j!=j_0:\n",
    "                    wiersz.append(A[i][j])\n",
    "            B.append(wiersz)\n",
    "    return B"
   ]
  },
  {
   "cell_type": "code",
   "execution_count": 40,
   "id": "21aeb7be-7979-4265-be64-a6d1ccf7c599",
   "metadata": {},
   "outputs": [],
   "source": [
    "def Det(A, k=0):   \n",
    "    if len(A)!=len(A[0]):\n",
    "        print('Argument nie jest macierzą kwadratową.')\n",
    "    else:\n",
    "        if len(A)==1:\n",
    "            s = A[0][0]\n",
    "        else:\n",
    "            s=0\n",
    "            for i in range(len(A)):\n",
    "                s = s+ A[k][i]*pow(-1, k+i)*Det(Reduce(A, k, i))\n",
    "        return s"
   ]
  },
  {
   "cell_type": "code",
   "execution_count": 41,
   "id": "956470c8-b47b-4b0b-b506-beb433792c40",
   "metadata": {},
   "outputs": [
    {
     "name": "stdout",
     "output_type": "stream",
     "text": [
      "det(A)= -2.0\n"
     ]
    }
   ],
   "source": [
    "A = [[1, 0 , 0], [0, 1, 0], [0, 0, 1]]\n",
    "A=[[1, 2], [3, 4]]\n",
    "\n",
    "print('det(A)=', Det(A))"
   ]
  },
  {
   "cell_type": "code",
   "execution_count": 53,
   "id": "bddc4d25-b679-4679-8254-43a5fdd07a88",
   "metadata": {},
   "outputs": [],
   "source": [
    "def Random_matrix(m, n, numbers_range = (1, 100)):\n",
    "    A = []\n",
    "    for i in range(m):\n",
    "        wiersz = []\n",
    "        for j in range(n):\n",
    "            wiersz.append(randint(numbers_range[0], numbers_range[1]))\n",
    "        A.append(wiersz)\n",
    "    return A"
   ]
  },
  {
   "cell_type": "code",
   "execution_count": 56,
   "id": "eed4ffbb-c8ec-46de-b1b1-c9ee91f2c641",
   "metadata": {},
   "outputs": [
    {
     "data": {
      "text/plain": [
       "[[39, 41, 92], [68, 81, 52]]"
      ]
     },
     "execution_count": 56,
     "metadata": {},
     "output_type": "execute_result"
    }
   ],
   "source": [
    "Random_matrix(2, 3)"
   ]
  },
  {
   "cell_type": "code",
   "execution_count": null,
   "id": "a527c4bf-a7bd-4204-b752-fa69b60aea05",
   "metadata": {},
   "outputs": [],
   "source": []
  },
  {
   "cell_type": "code",
   "execution_count": null,
   "id": "862cecd5-7ad8-4990-a316-6a9cb92e8486",
   "metadata": {},
   "outputs": [],
   "source": []
  }
 ],
 "metadata": {
  "kernelspec": {
   "display_name": "Python 3 (ipykernel)",
   "language": "python",
   "name": "python3"
  },
  "language_info": {
   "codemirror_mode": {
    "name": "ipython",
    "version": 3
   },
   "file_extension": ".py",
   "mimetype": "text/x-python",
   "name": "python",
   "nbconvert_exporter": "python",
   "pygments_lexer": "ipython3",
   "version": "3.12.4"
  }
 },
 "nbformat": 4,
 "nbformat_minor": 5
}
