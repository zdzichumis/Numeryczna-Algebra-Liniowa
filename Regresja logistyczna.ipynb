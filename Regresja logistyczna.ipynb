{
 "cells": [
  {
   "cell_type": "code",
   "execution_count": 51,
   "id": "ec249343",
   "metadata": {},
   "outputs": [],
   "source": [
    "import numpy as np\n",
    "import pandas as pd\n",
    "import matplotlib.pyplot as plt"
   ]
  },
  {
   "cell_type": "code",
   "execution_count": 77,
   "id": "e348be6d",
   "metadata": {},
   "outputs": [],
   "source": [
    "def loglikelihood(df, target, params):\n",
    "    logy = 0\n",
    "    for i in range(len(df)):\n",
    "        print(f\"i-th row of data:\\n{df.loc[i, :].values}\")\n",
    "        logy -= np.log(1+np.exp(-np.dot(params, df.loc[i, :].values)))\n",
    "    return logy"
   ]
  },
  {
   "cell_type": "code",
   "execution_count": 80,
   "id": "3bd6b08f",
   "metadata": {},
   "outputs": [
    {
     "name": "stderr",
     "output_type": "stream",
     "text": [
      "<>:4: SyntaxWarning: 'int' object is not callable; perhaps you missed a comma?\n",
      "<>:4: SyntaxWarning: 'int' object is not callable; perhaps you missed a comma?\n",
      "<ipython-input-80-3ff2c7c1b42f>:4: SyntaxWarning: 'int' object is not callable; perhaps you missed a comma?\n",
      "  x -+ H^(-1)(x_c)*nablaf\n"
     ]
    }
   ],
   "source": [
    "def gradient_descent(x, L, max_iter=100):\n",
    "    x = 0\n",
    "    for iter in range(max_iter):\n",
    "        x -+ H^(-1)(x_c)*nablaf\n",
    "    return x"
   ]
  },
  {
   "cell_type": "code",
   "execution_count": 79,
   "id": "93455865",
   "metadata": {},
   "outputs": [
    {
     "name": "stdout",
     "output_type": "stream",
     "text": [
      "   x_0  x_1\n",
      "0    1    9\n",
      "1    4    8\n",
      "2    3    4\n",
      "i-th row of data:\n",
      "[1 9]\n",
      "i-th row of data:\n",
      "[4 8]\n",
      "i-th row of data:\n",
      "[3 4]\n"
     ]
    },
    {
     "data": {
      "text/plain": [
       "-0.3799989670097746"
      ]
     },
     "execution_count": 79,
     "metadata": {},
     "output_type": "execute_result"
    }
   ],
   "source": [
    "data = np.array([[1, 9], [4, 8], [3, 4]])\n",
    "columns = [\"x_\"+str(i) for i in range(len(data[0]))]\n",
    "data = pd.DataFrame(data, columns=columns)\n",
    "print(data)\n",
    "params = [1, 0]\n",
    "logy = loglikelihood(data, 0, params)\n",
    "logy"
   ]
  },
  {
   "cell_type": "code",
   "execution_count": null,
   "id": "346ac9b8",
   "metadata": {},
   "outputs": [],
   "source": []
  },
  {
   "cell_type": "code",
   "execution_count": null,
   "id": "253cbbe1",
   "metadata": {},
   "outputs": [],
   "source": []
  }
 ],
 "metadata": {
  "kernelspec": {
   "display_name": "Python 3",
   "language": "python",
   "name": "python3"
  },
  "language_info": {
   "codemirror_mode": {
    "name": "ipython",
    "version": 3
   },
   "file_extension": ".py",
   "mimetype": "text/x-python",
   "name": "python",
   "nbconvert_exporter": "python",
   "pygments_lexer": "ipython3",
   "version": "3.8.8"
  }
 },
 "nbformat": 4,
 "nbformat_minor": 5
}
