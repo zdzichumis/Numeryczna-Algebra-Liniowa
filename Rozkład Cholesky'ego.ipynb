{
 "cells": [
  {
   "cell_type": "code",
   "execution_count": 71,
   "id": "6ffcf9e0",
   "metadata": {},
   "outputs": [
    {
     "ename": "ModuleNotFoundError",
     "evalue": "No module named 'linalg'",
     "output_type": "error",
     "traceback": [
      "\u001b[1;31m---------------------------------------------------------------------------\u001b[0m",
      "\u001b[1;31mModuleNotFoundError\u001b[0m                       Traceback (most recent call last)",
      "\u001b[1;32m<ipython-input-71-99de63f34c9e>\u001b[0m in \u001b[0;36m<module>\u001b[1;34m\u001b[0m\n\u001b[0;32m      1\u001b[0m \u001b[1;32mimport\u001b[0m \u001b[0mnumpy\u001b[0m \u001b[1;32mas\u001b[0m \u001b[0mnp\u001b[0m\u001b[1;33m\u001b[0m\u001b[1;33m\u001b[0m\u001b[0m\n\u001b[0;32m      2\u001b[0m \u001b[1;32mimport\u001b[0m \u001b[0mmath\u001b[0m\u001b[1;33m\u001b[0m\u001b[1;33m\u001b[0m\u001b[0m\n\u001b[1;32m----> 3\u001b[1;33m \u001b[1;32mimport\u001b[0m \u001b[0mlinalg\u001b[0m\u001b[1;33m\u001b[0m\u001b[1;33m\u001b[0m\u001b[0m\n\u001b[0m",
      "\u001b[1;31mModuleNotFoundError\u001b[0m: No module named 'linalg'"
     ]
    }
   ],
   "source": [
    "import numpy as np\n",
    "import math"
   ]
  },
  {
   "cell_type": "code",
   "execution_count": 103,
   "id": "e2abe3ab",
   "metadata": {},
   "outputs": [],
   "source": [
    "def pure_devide(a, b, is_zero):\n",
    "    if is_zero:\n",
    "        return 0\n",
    "    else:\n",
    "        return 1\n",
    "        "
   ]
  },
  {
   "cell_type": "code",
   "execution_count": 108,
   "id": "f131c924",
   "metadata": {},
   "outputs": [],
   "source": [
    "def Cholesky(A):\n",
    "    L=np.full_like(A, 0)\n",
    "    n = len(L)\n",
    "    for j in range(n):\n",
    "        for i in range(j, n):\n",
    "            if i == j:\n",
    "                suma = 0\n",
    "                for k in range(i):\n",
    "                    suma += L[i, k]**2\n",
    "                try:\n",
    "                    L[i, j] = math.sqrt(A[i, j]-suma)#-L[i, 0]**2\n",
    "                except:\n",
    "                    print('macierz nie jest dodatnio określona.')\n",
    "                    return 'blad'\n",
    "            else:\n",
    "                suma2 = 0\n",
    "                for k in range(j):\n",
    "                    suma2 += L[i, k]*L[j, k]\n",
    "                L[i, j] = (A[i, j]-suma2)/L[j, j]\n",
    "    return L"
   ]
  },
  {
   "cell_type": "code",
   "execution_count": 111,
   "id": "bcb1017e",
   "metadata": {},
   "outputs": [
    {
     "name": "stdout",
     "output_type": "stream",
     "text": [
      "macierz A:\n",
      " [[ 1  2  3]\n",
      " [ 2  5  6]\n",
      " [ 3  6 10]]\n",
      "pierwiastek tej macierzy to\n",
      " [[1 0 0]\n",
      " [2 1 0]\n",
      " [3 0 1]]\n",
      "numpy wynik\n",
      ": [[1. 0. 0.]\n",
      " [2. 1. 0.]\n",
      " [3. 0. 1.]]\n",
      "czy zgadza sie macierz?\n",
      " [[ 1  2  3]\n",
      " [ 2  5  6]\n",
      " [ 3  6 10]]\n"
     ]
    }
   ],
   "source": [
    "A = np.array([[1, 2, 3], [2, 5, 6], [3, 6, 10]])\n",
    "print('macierz A:\\n', A)\n",
    "L = Cholesky(A)\n",
    "print('pierwiastek tej macierzy to\\n', L)\n",
    "print('numpy wynik\\n:', np.linalg.cholesky(A))\n",
    "print('czy zgadza sie macierz?\\n', np.matmul(L, L.T))"
   ]
  },
  {
   "cell_type": "code",
   "execution_count": 112,
   "id": "c9874b7b",
   "metadata": {},
   "outputs": [],
   "source": [
    "def random_matrices(columns, rows, quantity=1):\n",
    "    result = []\n",
    "    for i in range(quantity):\n",
    "        result.append(np.random.rand(rows, columns))\n",
    "    return result"
   ]
  },
  {
   "cell_type": "code",
   "execution_count": 128,
   "id": "507e7524",
   "metadata": {},
   "outputs": [
    {
     "name": "stdout",
     "output_type": "stream",
     "text": [
      "Otrzymano 233 błędów na 100 testów.\n"
     ]
    }
   ],
   "source": [
    "n = 100\n",
    "dim_max = 10\n",
    "i = 0\n",
    "for dim in range(1, dim_max):\n",
    "    for B in random_matrices(dim, dim, n):\n",
    "        array = np.matmul(B, B.T)\n",
    "        if np.all(np.equal(Cholesky(array), np.linalg.cholesky(array)) == True):\n",
    "            i+=1\n",
    "print('Otrzymano', i, 'błędów na', n, 'testów.')"
   ]
  },
  {
   "cell_type": "code",
   "execution_count": null,
   "id": "6c141f4e",
   "metadata": {},
   "outputs": [],
   "source": []
  }
 ],
 "metadata": {
  "kernelspec": {
   "display_name": "Python 3",
   "language": "python",
   "name": "python3"
  },
  "language_info": {
   "codemirror_mode": {
    "name": "ipython",
    "version": 3
   },
   "file_extension": ".py",
   "mimetype": "text/x-python",
   "name": "python",
   "nbconvert_exporter": "python",
   "pygments_lexer": "ipython3",
   "version": "3.8.8"
  }
 },
 "nbformat": 4,
 "nbformat_minor": 5
}
