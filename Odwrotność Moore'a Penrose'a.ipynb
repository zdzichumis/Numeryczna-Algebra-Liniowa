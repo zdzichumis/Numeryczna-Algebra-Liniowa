{
 "cells": [
  {
   "cell_type": "code",
   "execution_count": 1,
   "id": "064adcf6",
   "metadata": {},
   "outputs": [],
   "source": [
    "import numpy as np\n",
    "import pandas as pd\n",
    "import matplotlib.pyplot as plt\n",
    "from copy import deepcopy"
   ]
  },
  {
   "cell_type": "code",
   "execution_count": 2,
   "id": "5853c85e",
   "metadata": {},
   "outputs": [],
   "source": [
    "def SVD(A_original, tolerance = 1e-10):\n",
    "    A = deepcopy(A_original).astype(float)\n",
    "    ata = A.T @ A\n",
    "    eig_values, eig_vectors = np.linalg.eig(ata) #(values, vectors)\n",
    "    eig_vectors = eig_vectors.T\n",
    "\n",
    "    #sortujemy malejąco wartości własne\n",
    "    sort_indices = np.argsort(-eig_values)\n",
    "    eig_values = eig_values[sort_indices]\n",
    "    eig_vectors = eig_vectors[sort_indices]\n",
    "    \n",
    "    #Wybieramy jedynie niezerowe wartości własne\n",
    "    nonzero_indices = np.where(abs(eig_values) > tolerance)\n",
    "    eig_values_cut = eig_values[nonzero_indices]\n",
    "    eig_vectors_cut = eig_vectors[nonzero_indices]\n",
    "    \n",
    "    #Tworzę listę wartości osobliwych\n",
    "    singular_values = np.sqrt(eig_values_cut)\n",
    "    \n",
    "    wk_vectors = [(1/singular_values[i])*(A@eig_vectors_cut[i]) for i in range(len(singular_values))]\n",
    "    W = np.array(wk_vectors).T\n",
    "    Sigma = np.diag(singular_values)\n",
    "    \n",
    "    return W, Sigma, eig_vectors_cut"
   ]
  },
  {
   "cell_type": "code",
   "execution_count": null,
   "id": "14bcfe0e",
   "metadata": {},
   "outputs": [],
   "source": []
  },
  {
   "cell_type": "code",
   "execution_count": 3,
   "id": "6605a17a",
   "metadata": {},
   "outputs": [],
   "source": [
    "def MP_inv(A_original, check = False, tolerance = 1e-10):\n",
    "    A = deepcopy(A_original).astype(float)\n",
    "    W, Sigma, VT = SVD(A, tolerance = tolerance)\n",
    "    mp_invA = VT.T @ np.diag(1/np.diag(Sigma)) @ W.T\n",
    "    \n",
    "    if check:\n",
    "        print(\"Aksjomat 1:\")\n",
    "        print(np.allclose(A@mp_invA@A, A, atol = tolerance))\n",
    "        print(\"Aksjomat 2:\")\n",
    "        print(np.allclose(mp_invA@A@mp_invA, mp_invA, atol = tolerance))\n",
    "        print(\"Aksjomat 3:\")\n",
    "        print(np.allclose((A@mp_invA).T, A@mp_invA, atol = tolerance))\n",
    "        print(\"Aksjomat 4:\")\n",
    "        print(np.allclose((mp_invA@A).T, mp_invA@A, atol = tolerance))\n",
    "    \n",
    "    return mp_invA "
   ]
  },
  {
   "cell_type": "code",
   "execution_count": 4,
   "id": "e28b05dc",
   "metadata": {},
   "outputs": [
    {
     "name": "stdout",
     "output_type": "stream",
     "text": [
      "Aksjomat 1:\n",
      "True\n",
      "Aksjomat 2:\n",
      "True\n",
      "Aksjomat 3:\n",
      "True\n",
      "Aksjomat 4:\n",
      "True\n",
      "[[1 2 3]\n",
      " [4 5 6]\n",
      " [7 8 9]]\n",
      "[[-6.38888889e-01 -1.66666667e-01  3.05555556e-01]\n",
      " [-5.55555556e-02  2.40076826e-15  5.55555556e-02]\n",
      " [ 5.27777778e-01  1.66666667e-01 -1.94444444e-01]]\n"
     ]
    }
   ],
   "source": [
    "A = np.array([[1,2,3],\n",
    "              [4,5,6],\n",
    "              [7,8,9]])\n",
    "tolerance = 1e-10\n",
    "mp_invA = MP_inv(A, check = True)\n",
    "#A = np.random.randint(1,10, size = (3,3))\n",
    "#W, Sigma, VT = SVD(A)\n",
    "print(A)\n",
    "#print()\n",
    "#print(W @ Sigma @ VT)\n",
    "print(mp_invA)\n"
   ]
  },
  {
   "cell_type": "code",
   "execution_count": null,
   "id": "f15b09f5",
   "metadata": {},
   "outputs": [],
   "source": []
  },
  {
   "cell_type": "code",
   "execution_count": 5,
   "id": "4e073dbe",
   "metadata": {},
   "outputs": [
    {
     "name": "stdout",
     "output_type": "stream",
     "text": [
      "     wiek   prawdo\n",
      "0       0  0.00417\n",
      "1       1  0.00032\n",
      "2       2  0.00023\n",
      "3       3  0.00018\n",
      "4       4  0.00015\n",
      "..    ...      ...\n",
      "96     96  0.29514\n",
      "97     97  0.31029\n",
      "98     98  0.32536\n",
      "99     99  0.34029\n",
      "100   100  0.35500\n",
      "\n",
      "[101 rows x 2 columns]\n"
     ]
    },
    {
     "data": {
      "image/png": "[encoded data removed]",
      "text/plain": [
       "<Figure size 432x288 with 1 Axes>"
      ]
     },
     "metadata": {
      "needs_background": "light"
     },
     "output_type": "display_data"
    },
    {
     "data": {
      "image/png": "[encoded data removed]",
      "text/plain": [
       "<Figure size 432x288 with 1 Axes>"
      ]
     },
     "metadata": {
      "needs_background": "light"
     },
     "output_type": "display_data"
    }
   ],
   "source": [
    "tablica = pd.read_csv('tablica.csv',\n",
    "                      sep=';', decimal=',')\n",
    "print(tablica)\n",
    "tablica['log_prawdo'] = np.log(tablica['prawdo'])\n",
    "\n",
    "plt.figure()\n",
    "plt.scatter(tablica['wiek'], tablica['prawdo'], c='black', label='datapoints')\n",
    "plt.xlabel('Wiek')\n",
    "plt.ylabel('p-stwo zgonu')\n",
    "plt.show()\n",
    "\n",
    "plt.figure()\n",
    "plt.scatter(tablica['wiek'], tablica['log_prawdo'], c='black', label='datapoints')\n",
    "plt.xlabel('Wiek')\n",
    "plt.ylabel('log(p-stwo zgonu)')\n",
    "plt.show()"
   ]
  },
  {
   "cell_type": "code",
   "execution_count": 6,
   "id": "511e23a5",
   "metadata": {},
   "outputs": [
    {
     "name": "stdout",
     "output_type": "stream",
     "text": [
      "[ 0.08167983 -8.95721996]\n"
     ]
    },
    {
     "data": {
      "image/png": "[encoded data removed]",
      "text/plain": [
       "<Figure size 432x288 with 1 Axes>"
      ]
     },
     "metadata": {
      "needs_background": "light"
     },
     "output_type": "display_data"
    }
   ],
   "source": [
    "dane = tablica[tablica['wiek']>20]\n",
    "dane.head()\n",
    "dane['wiek'].values\n",
    "A = np.array(list(zip(dane['wiek'].values, np.ones(dane['wiek'].size))))\n",
    "mp_inv_A = MP_inv(A)\n",
    "y = dane['log_prawdo'].to_numpy()\n",
    "b = A@mp_inv_A@y\n",
    "coef = mp_inv_A@y\n",
    "print(coef)\n",
    "\n",
    "plt.figure()\n",
    "plt.scatter(tablica['wiek'], tablica['log_prawdo'], c='black', label='datapoints')\n",
    "plt.xlabel('Wiek')\n",
    "plt.ylabel('log(p-stwo zgonu)')\n",
    "plt.plot(tablica['wiek'], coef[0]*tablica['wiek']+coef[1], c=\"blue\")\n",
    "plt.show()"
   ]
  },
  {
   "cell_type": "code",
   "execution_count": 7,
   "id": "34c6bd23",
   "metadata": {},
   "outputs": [
    {
     "data": {
      "image/png": "[encoded data removed]",
      "text/plain": [
       "<Figure size 432x288 with 1 Axes>"
      ]
     },
     "metadata": {
      "needs_background": "light"
     },
     "output_type": "display_data"
    }
   ],
   "source": [
    "plt.figure()\n",
    "plt.scatter(tablica['wiek'], tablica['prawdo'], c='black', label='datapoints2')\n",
    "plt.xlabel('Wiek')\n",
    "plt.ylabel('log(p-stwo zgonu)')\n",
    "plt.plot(tablica['wiek'], np.exp(coef[0]*tablica['wiek']+coef[1]), c=\"blue\")\n",
    "plt.show()"
   ]
  },
  {
   "cell_type": "code",
   "execution_count": null,
   "id": "67cb689d",
   "metadata": {},
   "outputs": [],
   "source": [
    "np.linspace(0, 1, 100)\n"
   ]
  },
  {
   "cell_type": "code",
   "execution_count": 29,
   "id": "f80e33af",
   "metadata": {},
   "outputs": [],
   "source": [
    "def interpolate(x, y):\n",
    "    n = x.shape[0]\n",
    "    coef = np.empty(n-1)\n",
    "    coef[0] = 1\n",
    "    return coef"
   ]
  },
  {
   "cell_type": "code",
   "execution_count": 30,
   "id": "c8b081ea",
   "metadata": {},
   "outputs": [
    {
     "data": {
      "text/plain": [
       "array([1.])"
      ]
     },
     "execution_count": 30,
     "metadata": {},
     "output_type": "execute_result"
    }
   ],
   "source": [
    "x = interpolate(np.array([2, 3]), np.array([4, 3]))\n",
    "x"
   ]
  },
  {
   "cell_type": "code",
   "execution_count": null,
   "id": "1af68600",
   "metadata": {},
   "outputs": [],
   "source": []
  }
 ],
 "metadata": {
  "kernelspec": {
   "display_name": "Python 3",
   "language": "python",
   "name": "python3"
  },
  "language_info": {
   "codemirror_mode": {
    "name": "ipython",
    "version": 3
   },
   "file_extension": ".py",
   "mimetype": "text/x-python",
   "name": "python",
   "nbconvert_exporter": "python",
   "pygments_lexer": "ipython3",
   "version": "3.8.8"
  }
 },
 "nbformat": 4,
 "nbformat_minor": 5
}
