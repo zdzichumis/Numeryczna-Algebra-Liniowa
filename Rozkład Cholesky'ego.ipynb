{
 "cells": [
  {
   "cell_type": "code",
   "execution_count": 24,
   "id": "6ffcf9e0",
   "metadata": {},
   "outputs": [],
   "source": [
    "import numpy as np"
   ]
  },
  {
   "cell_type": "code",
   "execution_count": 2,
   "id": "e2abe3ab",
   "metadata": {},
   "outputs": [],
   "source": [
    "def pure_divide(a, b, eps = 2**(-16)):\n",
    "    if abs(b) <eps:\n",
    "        return (0, 1)\n",
    "    else:\n",
    "        return (a/b, 0)"
   ]
  },
  {
   "cell_type": "code",
   "execution_count": 3,
   "id": "b16d7a50",
   "metadata": {},
   "outputs": [],
   "source": [
    "def pure_sqrt(a):\n",
    "    if a<0:\n",
    "        return (0, 1)\n",
    "    else:\n",
    "        return (np.sqrt(a), 0)"
   ]
  },
  {
   "cell_type": "code",
   "execution_count": 17,
   "id": "195f05dd",
   "metadata": {},
   "outputs": [],
   "source": [
    "def cholesky(A):\n",
    "    L=np.full_like(A, 0, dtype=float)\n",
    "    n = len(L)\n",
    "    for j in range(n):\n",
    "        for i in range(j, n):\n",
    "            if i == j:\n",
    "                suma = 0\n",
    "                for k in range(i):\n",
    "                    suma += L[i, k]**2\n",
    "                if A[i, j]-suma<0:\n",
    "                    print('Macierz nie jest dodatnio określona.')\n",
    "                    return 0\n",
    "                L[i, j] = np.sqrt(A[i, j]-suma)\n",
    "            else:\n",
    "                suma2 = 0\n",
    "                for k in range(j):\n",
    "                    suma2 += L[i, k]*L[j, k]\n",
    "                L[i, j] = (A[i, j]-suma2)/L[j, j]\n",
    "    return L"
   ]
  },
  {
   "cell_type": "code",
   "execution_count": 5,
   "id": "f131c924",
   "metadata": {},
   "outputs": [],
   "source": [
    "def pure_cholesky(A):\n",
    "    L=np.full_like(A, 0, dtype=float)\n",
    "    n = len(L)\n",
    "    for j in range(n):\n",
    "        for i in range(j, n):\n",
    "            if i == j:\n",
    "                suma = 0\n",
    "                for k in range(i):\n",
    "                    suma += L[i, k]**2\n",
    "                pure = pure_sqrt(A[i, j]-suma)\n",
    "                if pure[1] == 1:\n",
    "                    print('Macierz nie jest dodatnio określona.')\n",
    "                    return 0\n",
    "                L[i, j] = pure[0]\n",
    "            else:\n",
    "                suma2 = 0\n",
    "                for k in range(j):\n",
    "                    suma2 += L[i, k]*L[j, k]\n",
    "                pure = pure_divide(A[i, j]-suma2, L[j, j])\n",
    "                if pure[1] == 1:\n",
    "                    print('Błąd przy próbie dzielenia.')\n",
    "                    return 0\n",
    "                L[i, j] = pure[0]\n",
    "    return L"
   ]
  },
  {
   "cell_type": "code",
   "execution_count": 6,
   "id": "bcb1017e",
   "metadata": {},
   "outputs": [
    {
     "name": "stdout",
     "output_type": "stream",
     "text": [
      "macierz A:\n",
      " [[ 1  2  3]\n",
      " [ 2  5  6]\n",
      " [ 3  6 10]]\n",
      "pierwiastek tej macierzy to\n",
      " [[1. 0. 0.]\n",
      " [2. 1. 0.]\n",
      " [3. 0. 1.]]\n",
      "numpy wynik\n",
      ": [[1. 0. 0.]\n",
      " [2. 1. 0.]\n",
      " [3. 0. 1.]]\n",
      "czy zgadza sie iloczyn z transpozycją?\n",
      " [[ 1.  2.  3.]\n",
      " [ 2.  5.  6.]\n",
      " [ 3.  6. 10.]]\n"
     ]
    }
   ],
   "source": [
    "A = np.array([[1, 2, 3],\n",
    "              [2, 5, 6],\n",
    "              [3, 6, 10]])\n",
    "print('macierz A:\\n', A)\n",
    "L = pure_cholesky(A)\n",
    "print('pierwiastek tej macierzy to\\n', L)\n",
    "print('numpy wynik\\n:', np.linalg.cholesky(A))\n",
    "print('czy zgadza sie iloczyn z transpozycją?\\n', np.matmul(L, L.T))"
   ]
  },
  {
   "cell_type": "code",
   "execution_count": 7,
   "id": "c9874b7b",
   "metadata": {},
   "outputs": [],
   "source": [
    "def random_matrices(columns, rows, quantity=1):\n",
    "    result = []\n",
    "    for i in range(quantity):\n",
    "        result.append(np.random.rand(rows, columns))\n",
    "    return np.array(result)"
   ]
  },
  {
   "cell_type": "code",
   "execution_count": 25,
   "id": "507e7524",
   "metadata": {},
   "outputs": [
    {
     "name": "stdout",
     "output_type": "stream",
     "text": [
      "Otrzymano 10000 poprawnych wyników na 10000 testów.\n"
     ]
    }
   ],
   "source": [
    "n = 1000\n",
    "dim_max = 10\n",
    "i = 0\n",
    "for dim in range(1, dim_max+1):\n",
    "    for B in random_matrices(dim, dim, n):\n",
    "        array = np.matmul(B, B.T)\n",
    "        if np.all(np.isclose(cholesky(array), np.linalg.cholesky(array)) == True):\n",
    "            i+=1\n",
    "        #else:\n",
    "            #print('array', array, '\\nwynik funkcji\\n', cholesky(array), '\\nwynik numpy\\n', np.linalg.cholesky(array))\n",
    "print('Otrzymano', i, 'poprawnych wyników na', n*dim_max, 'testów.')"
   ]
  },
  {
   "cell_type": "code",
   "execution_count": 41,
   "id": "6c141f4e",
   "metadata": {},
   "outputs": [],
   "source": [
    "def gram_schmidt(A):\n",
    "    n = A.shape[1]\n",
    "    Q = np.zeros_like(A, dtype=float)\n",
    "    for k in range(n):\n",
    "        qk = A[:,k]\n",
    "        print('k=', k, 'qk', qk)\n",
    "        for i in range(k):\n",
    "            qk = qk - np.dot(A[:,k],Q[:,i]) * Q[:,i]\n",
    "            print('i=', i, 'iloczyn skalarny', np.dot(A[:,k],Q[:,i]), 'i ty wektor z Q', Q[:,i])\n",
    "        qk = qk/np.sqrt(np.dot(qk,qk))\n",
    "        Q[:,k] = qk\n",
    "        print('qk, Q:', qk,'\\n', Q)\n",
    "    return Q  "
   ]
  },
  {
   "cell_type": "code",
   "execution_count": 42,
   "id": "44d1b15f",
   "metadata": {},
   "outputs": [
    {
     "name": "stdout",
     "output_type": "stream",
     "text": [
      "A\n",
      " [[ 1  2  3]\n",
      " [ 4  5  6]\n",
      " [ 7  8 10]]\n",
      "k= 0 qk [1 4 7]\n",
      "qk, Q: [0.12309149 0.49236596 0.86164044] \n",
      " [[0.12309149 0.         0.        ]\n",
      " [0.49236596 0.         0.        ]\n",
      " [0.86164044 0.         0.        ]]\n",
      "k= 1 qk [2 5 8]\n",
      "i= 0 iloczyn skalarny 9.601136296387953 i ty wektor z Q [0.12309149 0.49236596 0.86164044]\n",
      "qk, Q: [ 0.90453403  0.30151134 -0.30151134] \n",
      " [[ 0.12309149  0.90453403  0.        ]\n",
      " [ 0.49236596  0.30151134  0.        ]\n",
      " [ 0.86164044 -0.30151134  0.        ]]\n",
      "k= 2 qk [ 3  6 10]\n",
      "i= 0 iloczyn skalarny 11.939874624995273 i ty wektor z Q [0.12309149 0.49236596 0.86164044]\n",
      "i= 1 iloczyn skalarny 1.5075567228888356 i ty wektor z Q [ 0.90453403  0.30151134 -0.30151134]\n",
      "qk, Q: [ 0.40824829 -0.81649658  0.40824829] \n",
      " [[ 0.12309149  0.90453403  0.40824829]\n",
      " [ 0.49236596  0.30151134 -0.81649658]\n",
      " [ 0.86164044 -0.30151134  0.40824829]]\n",
      "Q\n",
      " [[ 0.12309149  0.90453403  0.40824829]\n",
      " [ 0.49236596  0.30151134 -0.81649658]\n",
      " [ 0.86164044 -0.30151134  0.40824829]]\n",
      "iloczyn transpozycji [[ 1.00000000e+00  1.45860311e-15  1.98669082e-15]\n",
      " [ 1.45860311e-15  1.00000000e+00 -4.21143150e-14]\n",
      " [ 1.98669082e-15 -4.21143150e-14  1.00000000e+00]]\n"
     ]
    }
   ],
   "source": [
    "A = np.array([[1,2,3],\n",
    "              [4,5,6],\n",
    "              [7,8,10]])\n",
    "print('A\\n', A)\n",
    "\n",
    "Q = gram_schmidt(A)\n",
    "print('Q\\n', Q)\n",
    "\n",
    "print('iloczyn transpozycji', Q.T @ Q)"
   ]
  },
  {
   "cell_type": "code",
   "execution_count": null,
   "id": "bc1cb183",
   "metadata": {},
   "outputs": [],
   "source": []
  },
  {
   "cell_type": "code",
   "execution_count": null,
   "id": "e5f448bb",
   "metadata": {},
   "outputs": [],
   "source": []
  },
  {
   "cell_type": "code",
   "execution_count": null,
   "id": "95a74fd9",
   "metadata": {},
   "outputs": [],
   "source": []
  },
  {
   "cell_type": "code",
   "execution_count": null,
   "id": "8e29ee55",
   "metadata": {},
   "outputs": [],
   "source": []
  }
 ],
 "metadata": {
  "kernelspec": {
   "display_name": "Python 3",
   "language": "python",
   "name": "python3"
  },
  "language_info": {
   "codemirror_mode": {
    "name": "ipython",
    "version": 3
   },
   "file_extension": ".py",
   "mimetype": "text/x-python",
   "name": "python",
   "nbconvert_exporter": "python",
   "pygments_lexer": "ipython3",
   "version": "3.8.8"
  }
 },
 "nbformat": 4,
 "nbformat_minor": 5
}
