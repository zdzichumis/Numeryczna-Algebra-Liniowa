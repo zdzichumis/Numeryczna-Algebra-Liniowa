{
 "cells": [
  {
   "cell_type": "code",
   "execution_count": 16,
   "id": "fd6e37f4",
   "metadata": {},
   "outputs": [],
   "source": [
    "from math import pow\n",
    "from math import log\n",
    "from math import factorial\n",
    "import random\n",
    "import time\n",
    "from statistics import mean\n",
    "import matplotlib.pyplot as plt\n",
    "import numpy as np"
   ]
  },
  {
   "cell_type": "code",
   "execution_count": 17,
   "id": "373a5adf",
   "metadata": {},
   "outputs": [],
   "source": [
    "def backward_substitution(L, b):\n",
    "    x = np.zeros_like(b)\n",
    "    for i in range(len(A)-1, 0, -1):\n",
    "        s = 0\n",
    "        for j in range(i-1, 0, -1):\n",
    "            s += L[j, i]*x[i]\n",
    "        x[i] = ((b[i]-s)/L[i, i])\n",
    "    return x"
   ]
  },
  {
   "cell_type": "code",
   "execution_count": 18,
   "id": "6e73f92e",
   "metadata": {},
   "outputs": [],
   "source": [
    "def forward_substitution(L, b):\n",
    "    x = np.zeros_like(b)\n",
    "    for i in range(len(L)):\n",
    "        s = 0\n",
    "        for j in range(i):\n",
    "            s += L[i, j]*x[j]\n",
    "        x[i] = (b[i]-s)/L[i, i]\n",
    "    return x"
   ]
  },
  {
   "cell_type": "code",
   "execution_count": 21,
   "id": "ca31abc1",
   "metadata": {},
   "outputs": [
    {
     "name": "stdout",
     "output_type": "stream",
     "text": [
      "[0 2 1]\n",
      "[2 3 3]\n"
     ]
    }
   ],
   "source": [
    "A = np.array([[1, 0, 0], [-1, 2, 0], [0, -3, 4]])\n",
    "A2 = np.array([[1, 0, 0], [0, 2, 0], [0, 0, 3]])\n",
    "b = [2, 4, 3]\n",
    "print(backward_substitution(A2, b))\n",
    "print(forward_substitution(A, b))"
   ]
  },
  {
   "cell_type": "code",
   "execution_count": 5,
   "id": "2a82ebcc",
   "metadata": {},
   "outputs": [],
   "source": [
    "def random_lower_triangular_matrix(m, n, random_range = (1, 10)):\n",
    "    A = []\n",
    "    for i in range(m):\n",
    "        wiersz = []\n",
    "        for j in range(n):\n",
    "            if i<=j:\n",
    "                wiersz.append(random.randint(random_range[0], random_range[1]))\n",
    "            else:\n",
    "                wiersz.append(0)\n",
    "        A.append(wiersz)\n",
    "    return np.array(A)"
   ]
  },
  {
   "cell_type": "code",
   "execution_count": 6,
   "id": "d54805dc",
   "metadata": {},
   "outputs": [
    {
     "name": "stdout",
     "output_type": "stream",
     "text": [
      "[[3 7 5]\n",
      " [0 7 3]\n",
      " [0 0 6]]\n"
     ]
    },
    {
     "data": {
      "text/plain": [
       "array([0, 0, 0])"
      ]
     },
     "execution_count": 6,
     "metadata": {},
     "output_type": "execute_result"
    }
   ],
   "source": [
    "A = random_lower_triangular_matrix(3, 3)\n",
    "print(A)\n",
    "b = [2, 4, 3]\n",
    "forward_substitution(A, b)"
   ]
  },
  {
   "cell_type": "code",
   "execution_count": 7,
   "id": "b21cf057",
   "metadata": {},
   "outputs": [],
   "source": [
    "def Gaussian_elimination(A, b):\n",
    "    if np.shape(A)[0] == np.shape(A)[1]:\n",
    "        x = 0\n",
    "    return x"
   ]
  },
  {
   "cell_type": "code",
   "execution_count": 8,
   "id": "9c62cea6",
   "metadata": {},
   "outputs": [],
   "source": [
    "A = np.array([[1, 0, 0], [-1, 2, 0], [0, -3, 4]])\n"
   ]
  },
  {
   "cell_type": "code",
   "execution_count": null,
   "id": "83f41eb3",
   "metadata": {},
   "outputs": [],
   "source": []
  }
 ],
 "metadata": {
  "kernelspec": {
   "display_name": "Python 3 (ipykernel)",
   "language": "python",
   "name": "python3"
  },
  "language_info": {
   "codemirror_mode": {
    "name": "ipython",
    "version": 3
   },
   "file_extension": ".py",
   "mimetype": "text/x-python",
   "name": "python",
   "nbconvert_exporter": "python",
   "pygments_lexer": "ipython3",
   "version": "3.12.4"
  }
 },
 "nbformat": 4,
 "nbformat_minor": 5
}
